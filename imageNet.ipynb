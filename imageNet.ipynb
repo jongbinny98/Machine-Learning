{
  "cells": [
    {
      "cell_type": "markdown",
      "metadata": {
        "id": "view-in-github",
        "colab_type": "text"
      },
      "source": [
        "<a href=\"https://colab.research.google.com/github/jongbinny98/ucsc/blob/master/imageNet.ipynb\" target=\"_parent\"><img src=\"https://colab.research.google.com/assets/colab-badge.svg\" alt=\"Open In Colab\"/></a>"
      ]
    },
    {
      "cell_type": "markdown",
      "metadata": {
        "id": "NegAkmLZKITL"
      },
      "source": [
        "# CSE - 144 Assignment 4\n",
        "\n",
        "## Due: June 7, 2022 11:59 pm\n",
        "\n",
        "\n",
        "**Be sure to set your Runtime environment to include a GPU, as it will speed up the training considerably (this time that's important!).**\n",
        "\n",
        "Intro Slides: https://docs.google.com/presentation/d/1PjqwL9g8XPr40LLRjRAAtxzc4Tf9iqVVnq61gJ59_Iw/edit?usp=sharing"
      ]
    },
    {
      "cell_type": "code",
      "source": [
        "from google.colab import drive\n",
        "drive.mount('/content/drive')"
      ],
      "metadata": {
        "id": "9XMaBDrqJAzi",
        "colab": {
          "base_uri": "https://localhost:8080/"
        },
        "outputId": "625aa747-6aec-440d-bf30-e5b3c4609653"
      },
      "execution_count": 1,
      "outputs": [
        {
          "output_type": "stream",
          "name": "stdout",
          "text": [
            "Mounted at /content/drive\n"
          ]
        }
      ]
    },
    {
      "cell_type": "code",
      "execution_count": 2,
      "metadata": {
        "id": "UQ7vc7_hKITR"
      },
      "outputs": [],
      "source": [
        "# Ignore the warnings - Otherwise, TensorFlow tends to innundate one with far too many warnings.\n",
        "import warnings\n",
        "warnings.filterwarnings('always')\n",
        "warnings.filterwarnings('ignore')\n",
        "\n",
        "# Data visualizaton.\n",
        "import matplotlib.pyplot as plt\n",
        "from matplotlib import style\n",
        "import seaborn as sns\n",
        "import random as rn\n",
        "\n",
        "# Configure some defaults.\n",
        "%matplotlib inline  \n",
        "style.use('fivethirtyeight')\n",
        "sns.set(style='whitegrid',color_codes=True)\n",
        "\n",
        "# ML + Deep Learning Imports\n",
        "import tensorflow as tf\n",
        "from keras import backend as k\n",
        "from tensorflow import keras\n",
        "from keras.regularizers import l2\n",
        "from keras.preprocessing.image import ImageDataGenerator # Data Augmentation\n",
        "from tensorflow.keras import regularizers\n",
        "from tensorflow.keras import datasets, layers, models \n",
        "from keras.layers.advanced_activations import PReLU\n",
        "from tensorflow.keras.models import Sequential # This building the models\n",
        "from tensorflow.keras.layers import Dense, Dropout, Flatten, Activation, Conv2D, MaxPooling2D, BatchNormalization\n",
        "from tensorflow.keras.optimizers import Adam, SGD, Adagrad, Adadelta, RMSprop \n",
        "from tensorflow.keras.utils import to_categorical # if label is 0,1,...,99 etc then it becomes [0,...1,.,0] a len 100 vector\n",
        "from keras.callbacks import ReduceLROnPlateau #learning rate decay policy\n",
        "from sklearn.model_selection import train_test_split # for splitting data\n",
        "\n",
        "\n",
        "\n",
        " \n",
        "\n",
        "import numpy as np\n",
        "import pandas as pd # for making our csv\n",
        "import time\n",
        "# Image preprocessing and reading in.\n",
        "import imageio \n",
        "from pathlib import Path\n",
        "import os, sys\n",
        "from zipfile import ZipFile\n"
      ]
    },
    {
      "cell_type": "markdown",
      "metadata": {
        "id": "ZVLfTcsJKITR"
      },
      "source": [
        "#### Step-0: Import dataset\n",
        "Download Tiny-ImageNet-100 dataset using the code blocks below. \n",
        "\n",
        "Please fill in the code block below to split the data into training, validation and test datasets you may use scikit-learn to split."
      ]
    },
    {
      "cell_type": "code",
      "source": [
        "# Download Tiny-Imagenet-100\n",
        "!gdown 1bn9RtCsMu-v_ZagKCK2z7hVEDOIjb9Pd\n",
        "\n",
        "for file in os.listdir(os.getcwd()):\n",
        "    if file.endswith(\".zip\"):\n",
        "        zip = ZipFile(file)\n",
        "        zip.extractall()\n",
        "    else:\n",
        "        print(\"not found\")"
      ],
      "metadata": {
        "id": "Rp7dVNpkfC3_",
        "colab": {
          "base_uri": "https://localhost:8080/"
        },
        "outputId": "d60fc3cc-f5ab-44d4-d393-b823f2deb3da"
      },
      "execution_count": 3,
      "outputs": [
        {
          "output_type": "stream",
          "name": "stdout",
          "text": [
            "Downloading...\n",
            "From: https://drive.google.com/uc?id=1bn9RtCsMu-v_ZagKCK2z7hVEDOIjb9Pd\n",
            "To: /content/tiny-image-net-100.zip\n",
            "100% 139M/139M [00:00<00:00, 172MB/s]\n",
            "not found\n",
            "not found\n",
            "not found\n"
          ]
        }
      ]
    },
    {
      "cell_type": "code",
      "source": [
        "path = 'tiny-image-net-100/'\n",
        "\n",
        "def get_id_dictionary():\n",
        "    \"\"\"\n",
        "    Maps each class id to an unique integer.\n",
        "    \"\"\"\n",
        "    id_dict = {}\n",
        "    for i, line in enumerate(open(path + 'wnids.txt', 'r')):\n",
        "        id_dict[line.rstrip('\\n')] = i\n",
        "    return id_dict\n",
        "  \n",
        "def get_class_to_id_dict():\n",
        "    \"\"\"\n",
        "    Maps each class id to the English version of the label.\n",
        "    \"\"\"\n",
        "    id_dict = get_id_dictionary()\n",
        "    all_classes = {}\n",
        "    result = {}\n",
        "    for i, line in enumerate(open( path + 'words.txt', 'r')):\n",
        "        n_id, word = line.split('\\t')[:2]\n",
        "        all_classes[n_id] = word\n",
        "    for key, value in id_dict.items():\n",
        "        result[value] = (key, all_classes[key])      \n",
        "    return result\n",
        "\n",
        "def get_data(id_dict, n_samples = 500):\n",
        "    \"\"\"\n",
        "    n_samples: number of samples per class. n_samples has a max of 500.\n",
        "    The range is [1, 500].\n",
        "    \"\"\"\n",
        "    print('starting loading data')\n",
        "    train_data, test_data = [], []\n",
        "    train_labels = []\n",
        "    t = time.time()\n",
        "    for key, value in id_dict.items():\n",
        "      if value<100: # Only focus on first 100 classes\n",
        "        train_data += [imageio.imread( path + 'train/{}/images/{}_{}.JPEG'.format(key, key, str(i)), pilmode='RGB') for i in range(n_samples)]\n",
        "        train_labels_ = np.array([[0]*100]*n_samples)\n",
        "        train_labels_[:, value] = 1\n",
        "        train_labels += train_labels_.tolist()\n",
        "\n",
        "    test_image_names = []\n",
        "    path_list = list(Path(path+'test/images/').glob('*.jpg'))\n",
        "    for test_image_path in path_list:\n",
        "        img_name = str(test_image_path).split('.')[0][-18:]\n",
        "        test_image_names.append(img_name)\n",
        "        test_data.append(imageio.imread(test_image_path , pilmode='RGB'))\n",
        "        \n",
        "    print('finished loading data, in {} seconds'.format(time.time() - t))\n",
        "\n",
        "    train_data = np.array(train_data)\n",
        "    train_labels = np.array(train_labels)\n",
        "    test_data = np.array(test_data)\n",
        "\n",
        "    return train_data, train_labels, test_data, test_image_names"
      ],
      "metadata": {
        "id": "MItoUh2LZSsX"
      },
      "execution_count": 4,
      "outputs": []
    },
    {
      "cell_type": "code",
      "execution_count": 5,
      "metadata": {
        "id": "K6PznhssKITR",
        "colab": {
          "base_uri": "https://localhost:8080/"
        },
        "outputId": "faeefb7b-2a7f-4a9f-dffc-b2982a3baea6"
      },
      "outputs": [
        {
          "output_type": "stream",
          "name": "stdout",
          "text": [
            "starting loading data\n",
            "finished loading data, in 19.102948904037476 seconds\n",
            "train data shape:  (45000, 64, 64, 3)\n",
            "train label shape:  (45000, 100)\n",
            "val data shape:  (5000, 64, 64, 3)\n",
            "val label shape:  (5000, 100)\n",
            "test data shape:  (5000, 64, 64, 3)\n"
          ]
        }
      ],
      "source": [
        "###### Your codes start here.######\n",
        "\n",
        "# Start with n_samples = 10 to get your code working and then increase accordlingy.\n",
        "id_dict = get_id_dictionary()\n",
        "train_data, train_labels, test_data, test_image_names = get_data(id_dict)\n",
        "x_test, test_size = test_data, 0.1\n",
        "x_train, x_val, y_train, y_val = train_test_split(train_data, train_labels, test_size = test_size)\n",
        "\n",
        "\n",
        "###### Your codes end here.######\n",
        "print( \"train data shape: \",  x_train.shape )\n",
        "print( \"train label shape: \", y_train.shape )\n",
        "print( \"val data shape: \",  x_val.shape )\n",
        "print( \"val label shape: \", y_val.shape )\n",
        "print( \"test data shape: \",   x_test.shape )"
      ]
    },
    {
      "cell_type": "code",
      "source": [
        "# Let's set some random seeds to make this more reproducible.\n",
        "def setseeds():\n",
        "  np.random.seed(137)\n",
        "  rn.seed(137)\n",
        "  tf.random.set_seed(137)\n",
        "setseeds()"
      ],
      "metadata": {
        "id": "nSrUa9R4iUU6"
      },
      "execution_count": 6,
      "outputs": []
    },
    {
      "cell_type": "markdown",
      "source": [
        "#### Step-1: Data Preparation & Exploration\n",
        "\n",
        "Let's take a look at a few of these images. Rerun this cell multiple times to see different images for each class.\n",
        "\n",
        "You may notice that these images look low fidelity, which is because they are! As we increase our image size, we also increase our model complexity. What's important is that our classes are still distinguishable from each other."
      ],
      "metadata": {
        "id": "PJvMZiSoprph"
      }
    },
    {
      "cell_type": "code",
      "execution_count": 7,
      "metadata": {
        "id": "d45hvQNDKITS",
        "colab": {
          "base_uri": "https://localhost:8080/",
          "height": 304
        },
        "outputId": "7c82f18c-eaa1-4e3c-daf1-2de8c438c96e"
      },
      "outputs": [
        {
          "output_type": "execute_result",
          "data": {
            "text/plain": [
              "<matplotlib.image.AxesImage at 0x7f7d40bcf590>"
            ]
          },
          "metadata": {},
          "execution_count": 7
        },
        {
          "output_type": "display_data",
          "data": {
            "text/plain": [
              "<Figure size 432x288 with 1 Axes>"
            ],
            "image/png": "[encoded data removed]"
          },
          "metadata": {}
        }
      ],
      "source": [
        "#Visulize one image from Tiny-ImageNet\n",
        "plt.imshow(x_train[0], cmap=plt.cm.binary)"
      ]
    },
    {
      "cell_type": "markdown",
      "metadata": {
        "id": "eFpoh2XBKITT"
      },
      "source": [
        "#### Step-2: Build a neural network.\n",
        "Build your convolutional neural networks by adding some layers. You should use 2 convolution layers and ReLU as the default activation function.\n",
        "Add max pooling after the first layer.\n",
        "The kernel size of both layers should be 3x3. Use 32 and 64 as the number of filters for the first and the second convolutional layers, respectively. After that, flatten your input and add two more dense layers. There should be 1024 units in the first dense with ReLU activation, and use 100 hidden units in the second dense layer with softmax activation."
      ]
    },
    {
      "cell_type": "code",
      "source": [
        "# build convolutional neural network\n",
        "# resModel = keras.applications.ResNet50(include_top=False,\n",
        "#                                        weights=\"imagenet\",\n",
        "#                                        input_shape=(224, 224, 3))"
      ],
      "metadata": {
        "id": "_qZrWN65ZbF1"
      },
      "execution_count": 8,
      "outputs": []
    },
    {
      "cell_type": "code",
      "execution_count": 13,
      "metadata": {
        "id": "Y-7IE80mKITT"
      },
      "outputs": [],
      "source": [
        "###### Your code starts here. ######\n",
        "# define our CNN architecture, using karas\n",
        "# This is where we define the architecture of our deep neural network.\n",
        "model = tf.keras.Sequential()\n",
        "\n",
        "model.add(Conv2D(filters = 32, \n",
        "          kernel_size=(3, 3), \n",
        "          activation=PReLU())\n",
        "          )\n",
        "\n",
        "model.add(Conv2D(filters = 64, \n",
        "          kernel_size=(3, 3), \n",
        "          activation=PReLU())\n",
        "          )\n",
        "\n",
        "model.add(MaxPooling2D((2, 2), strides=2))\n",
        "model.add(BatchNormalization())\n",
        "\n",
        "model.add(Conv2D(filters = 128, \n",
        "          kernel_size=(3, 3), \n",
        "          activation=PReLU())\n",
        "          )\n",
        "model.add(MaxPooling2D((2, 2), strides=2))\n",
        "model.add(BatchNormalization())\n",
        "\n",
        "\n",
        "model.add(Conv2D(filters = 256, \n",
        "          kernel_size=(3, 3), \n",
        "          activation=PReLU())\n",
        "          )\n",
        "\n",
        "model.add(MaxPooling2D((2, 2), strides=2))\n",
        "\n",
        "model.add(Conv2D(filters = 512, \n",
        "          kernel_size=(3, 3), \n",
        "          activation=PReLU())\n",
        "          )\n",
        "model.add(Flatten())\n",
        "\n",
        "model.add(Dropout(0.5))\n",
        "\n",
        "model.add(Dense(1024, activation = PReLU()))  \n",
        "\n",
        "model.add(Dense(100, activation = \"softmax\"))\n",
        "# model = tf.keras.Sequential()\n",
        "\n",
        "# model.add(Conv2D(filters = 32,      \n",
        "#                  kernel_size = (3, 3), \n",
        "#                  activation = PReLU()\n",
        "#                  ))\n",
        "\n",
        "# model.add(MaxPooling2D(pool_size = (2, 2)))\n",
        "# model.add(BatchNormalization())\n",
        "\n",
        "# model.add(Conv2D(filters = 64,      \n",
        "#                  kernel_size = (3, 3), \n",
        "#                  activation = PReLU()\n",
        "#                  ))\n",
        "\n",
        "# model.add(MaxPooling2D(pool_size = (2, 2)))\n",
        "\n",
        "# model.add(Flatten())\n",
        "\n",
        "# model.add(Dropout(0.5))\n",
        "\n",
        "# model.add(Dense(1024, activation = PReLU()))  \n",
        "\n",
        "# model.add(Dense(100, activation = \"softmax\"))\n",
        "model.build(input_shape=(None, 64, 64, 3))\n",
        "\n",
        "###### Your codes end here.######"
      ]
    },
    {
      "cell_type": "markdown",
      "source": [
        "### Side Note: How to save a model to google drive\n"
      ],
      "metadata": {
        "id": "-KmndNeeHHD5"
      }
    },
    {
      "cell_type": "code",
      "source": [
        "# Mount colab to your drive\n",
        "# from google.colab import drive\n",
        "drive.mount('/content/drive', force_remount=True)"
      ],
      "metadata": {
        "id": "iMzmHqxtHGgX",
        "colab": {
          "base_uri": "https://localhost:8080/"
        },
        "outputId": "ae1e407f-294f-4980-9024-c56749ff5ee1"
      },
      "execution_count": 10,
      "outputs": [
        {
          "output_type": "stream",
          "name": "stdout",
          "text": [
            "Mounted at /content/drive\n"
          ]
        }
      ]
    },
    {
      "cell_type": "code",
      "source": [
        "# Add load model if exists\n",
        "model = keras.models.load_model('/content/drive/My Drive/hw4 kaggle/hw4_model.h5')"
      ],
      "metadata": {
        "id": "wD22-ZNKHjdz",
        "colab": {
          "base_uri": "https://localhost:8080/"
        },
        "outputId": "414e64dc-170c-4073-b07c-22dca5f5b38c"
      },
      "execution_count": 16,
      "outputs": [
        {
          "output_type": "stream",
          "name": "stdout",
          "text": [
            "WARNING:tensorflow:No training configuration found in the save file, so the model was *not* compiled. Compile it manually.\n"
          ]
        }
      ]
    },
    {
      "cell_type": "code",
      "source": [
        "# Save your model to gdrive\n",
        "model.save('/content/drive/My Drive/hw4 kaggle/hw4_model.h5')  "
      ],
      "metadata": {
        "id": "VnMotv2THOJL",
        "colab": {
          "base_uri": "https://localhost:8080/"
        },
        "outputId": "502c42c8-823a-47a0-9735-c44284c72fa8"
      },
      "execution_count": 17,
      "outputs": [
        {
          "output_type": "stream",
          "name": "stdout",
          "text": [
            "WARNING:tensorflow:Compiled the loaded model, but the compiled metrics have yet to be built. `model.compile_metrics` will be empty until you train or evaluate the model.\n"
          ]
        }
      ]
    },
    {
      "cell_type": "markdown",
      "metadata": {
        "id": "dt27nBzJKITU"
      },
      "source": [
        "#### Step-3: Train the model\n",
        "Compile model here and set your initial hyperparameters. Use ADAM as the optimizer. You should choose 'categorical_crossentropy' as your loss function, and the metrics should be 'accuracy'. After that, train your model for 30 epochs. "
      ]
    },
    {
      "cell_type": "code",
      "source": [
        "# lr_reducer = ReduceLROnPlateau(factor=np.sqrt(0.1), cooldown=0, patience=5, min_lr=0.5e-3)\n",
        "model.build(input_shape=(None, 64, 64, 3))\n",
        "model.summary()"
      ],
      "metadata": {
        "id": "Vow_Wly8N_AD",
        "colab": {
          "base_uri": "https://localhost:8080/"
        },
        "outputId": "8a34b6c2-f680-477f-853b-70dc0d68f9b1"
      },
      "execution_count": 85,
      "outputs": [
        {
          "output_type": "stream",
          "name": "stdout",
          "text": [
            "Model: \"sequential_3\"\n",
            "_________________________________________________________________\n",
            " Layer (type)                Output Shape              Param #   \n",
            "=================================================================\n",
            " conv2d_15 (Conv2D)          (None, 62, 62, 32)        123904    \n",
            "                                                                 \n",
            " conv2d_16 (Conv2D)          (None, 60, 60, 64)        248896    \n",
            "                                                                 \n",
            " max_pooling2d_9 (MaxPooling  (None, 30, 30, 64)       0         \n",
            " 2D)                                                             \n",
            "                                                                 \n",
            " batch_normalization_6 (Batc  (None, 30, 30, 64)       256       \n",
            " hNormalization)                                                 \n",
            "                                                                 \n",
            " conv2d_17 (Conv2D)          (None, 28, 28, 128)       174208    \n",
            "                                                                 \n",
            " max_pooling2d_10 (MaxPoolin  (None, 14, 14, 128)      0         \n",
            " g2D)                                                            \n",
            "                                                                 \n",
            " batch_normalization_7 (Batc  (None, 14, 14, 128)      512       \n",
            " hNormalization)                                                 \n",
            "                                                                 \n",
            " conv2d_18 (Conv2D)          (None, 12, 12, 256)       332032    \n",
            "                                                                 \n",
            " max_pooling2d_11 (MaxPoolin  (None, 6, 6, 256)        0         \n",
            " g2D)                                                            \n",
            "                                                                 \n",
            " conv2d_19 (Conv2D)          (None, 4, 4, 512)         1188352   \n",
            "                                                                 \n",
            " flatten_3 (Flatten)         (None, 8192)              0         \n",
            "                                                                 \n",
            " dropout_3 (Dropout)         (None, 8192)              0         \n",
            "                                                                 \n",
            " dense_6 (Dense)             (None, 1024)              8390656   \n",
            "                                                                 \n",
            " dense_7 (Dense)             (None, 100)               102500    \n",
            "                                                                 \n",
            "=================================================================\n",
            "Total params: 10,561,316\n",
            "Trainable params: 10,560,932\n",
            "Non-trainable params: 384\n",
            "_________________________________________________________________\n"
          ]
        }
      ]
    },
    {
      "cell_type": "code",
      "source": [
        "### Your code here###\n",
        "#compile the model\n",
        "model.compile(optimizer = Adam(lr = 0.001),\n",
        "              loss = 'categorical_crossentropy', \n",
        "              metrics = ['accuracy'])\n",
        "\n",
        "# model.compile(optimizer='adam',\n",
        "#               loss=tf.keras.losses.SparseCategoricalCrossentropy(from_logits=True),\n",
        "#               metrics=['accuracy'])\n",
        "### Your code here###"
      ],
      "metadata": {
        "id": "pEyagpLSMLtq"
      },
      "execution_count": 86,
      "outputs": []
    },
    {
      "cell_type": "markdown",
      "source": [
        "### Data Augmentation\n",
        "\n",
        "There are many augmentations you can use! Read about them in the Keras documentation.\n",
        "\n",
        " **Rescale is very important!**"
      ],
      "metadata": {
        "id": "1PldpcYoHsG-"
      }
    },
    {
      "cell_type": "code",
      "source": [
        "# Set up data generators for training and validation set\n",
        "# add transformations\n",
        "\n",
        "datagen = ImageDataGenerator(\n",
        "          rescale=1/255.,\n",
        "          featurewise_center=False,           # set input mean to 0 over the dataset\n",
        "          samplewise_center=False,            # set each sample mean to 0\n",
        "          featurewise_std_normalization=False,# divide inputs by std of the dataset\n",
        "          samplewise_std_normalization=False, # divide each input by its std\n",
        "          zca_whitening=False,                # apply ZCA whitening\n",
        "          rotation_range=0,                   # randomly rotate images in the range (degrees, 0 to 180)\n",
        "          width_shift_range=0.1,              # randomly shift images horizontally (fraction of total width)\n",
        "          height_shift_range=0.1,             # randomly shift images vertically (fraction of total height)\n",
        "          horizontal_flip=True,               # randomly flip images\n",
        "          vertical_flip=True)               # randomly flip images\n",
        "\n",
        "\n",
        "valid_datagen = ImageDataGenerator(rescale=1/255.)"
      ],
      "metadata": {
        "id": "YenY_mK3LOmp"
      },
      "execution_count": 87,
      "outputs": []
    },
    {
      "cell_type": "code",
      "source": [
        "### Your code here ###\n",
        "\n",
        "# fit generators to datasets\n",
        "datagen.fit(x_train)\n",
        "datagen.fit(x_val)\n",
        "\n",
        "### Your code here###"
      ],
      "metadata": {
        "id": "JLAj2KeOLuR1"
      },
      "execution_count": 88,
      "outputs": []
    },
    {
      "cell_type": "code",
      "source": [
        "## Your Code Here ###\n",
        "\n",
        "#set number of epochs, set batch_size\n",
        "nb_epoch = 50\n",
        "batch_size= 128\n",
        "\n",
        "# # Fit the model on the batches generated by datagen.flow().\n",
        "setseeds()\n",
        "\n",
        "# history = model.fit(x_train, y_train,\n",
        "#                     batch_size = batch_size,\n",
        "#                     epochs = nb_epoch, \n",
        "#                     validation_data = (x_val, y_val)\n",
        "#                     )\n",
        "history = model.fit(datagen.flow(x_train, y_train, batch_size=32),\n",
        "         validation_data = valid_datagen.flow(x_val, y_val, batch_size = batch_size),\n",
        "         steps_per_epoch=len(x_train) / 32, epochs=nb_epoch)\n",
        "\n"
      ],
      "metadata": {
        "id": "1I6RSsDML98I",
        "colab": {
          "base_uri": "https://localhost:8080/"
        },
        "outputId": "d9435c86-ca32-4504-c863-cbd4dc089377"
      },
      "execution_count": 89,
      "outputs": [
        {
          "output_type": "stream",
          "name": "stdout",
          "text": [
            "Epoch 1/50\n",
            "1406/1406 [==============================] - 51s 35ms/step - loss: 4.5173 - accuracy: 0.0216 - val_loss: 4.5086 - val_accuracy: 0.0282\n",
            "Epoch 2/50\n",
            "1406/1406 [==============================] - 49s 35ms/step - loss: 4.1137 - accuracy: 0.0706 - val_loss: 3.9849 - val_accuracy: 0.0938\n",
            "Epoch 3/50\n",
            "1406/1406 [==============================] - 49s 35ms/step - loss: 3.6895 - accuracy: 0.1417 - val_loss: 3.5007 - val_accuracy: 0.1760\n",
            "Epoch 4/50\n",
            "1406/1406 [==============================] - 50s 35ms/step - loss: 3.4130 - accuracy: 0.1920 - val_loss: 3.3048 - val_accuracy: 0.2128\n",
            "Epoch 5/50\n",
            "1406/1406 [==============================] - 49s 35ms/step - loss: 3.2144 - accuracy: 0.2258 - val_loss: 3.1036 - val_accuracy: 0.2490\n",
            "Epoch 6/50\n",
            "1406/1406 [==============================] - 49s 35ms/step - loss: 3.0731 - accuracy: 0.2534 - val_loss: 3.2426 - val_accuracy: 0.2318\n",
            "Epoch 7/50\n",
            "1406/1406 [==============================] - 49s 35ms/step - loss: 2.9692 - accuracy: 0.2742 - val_loss: 2.9831 - val_accuracy: 0.2752\n",
            "Epoch 8/50\n",
            "1406/1406 [==============================] - 49s 35ms/step - loss: 2.8892 - accuracy: 0.2937 - val_loss: 2.8861 - val_accuracy: 0.2878\n",
            "Epoch 9/50\n",
            "1406/1406 [==============================] - 49s 35ms/step - loss: 2.8023 - accuracy: 0.3094 - val_loss: 2.8243 - val_accuracy: 0.3136\n",
            "Epoch 10/50\n",
            "1406/1406 [==============================] - 49s 35ms/step - loss: 2.7409 - accuracy: 0.3185 - val_loss: 2.7535 - val_accuracy: 0.3252\n",
            "Epoch 11/50\n",
            "1406/1406 [==============================] - 49s 35ms/step - loss: 2.6783 - accuracy: 0.3320 - val_loss: 2.8184 - val_accuracy: 0.3076\n",
            "Epoch 12/50\n",
            "1406/1406 [==============================] - 49s 35ms/step - loss: 2.6379 - accuracy: 0.3420 - val_loss: 2.7523 - val_accuracy: 0.3278\n",
            "Epoch 13/50\n",
            "1406/1406 [==============================] - 49s 35ms/step - loss: 2.5853 - accuracy: 0.3533 - val_loss: 2.7063 - val_accuracy: 0.3398\n",
            "Epoch 14/50\n",
            "1406/1406 [==============================] - 49s 35ms/step - loss: 2.5376 - accuracy: 0.3626 - val_loss: 2.6914 - val_accuracy: 0.3396\n",
            "Epoch 15/50\n",
            "1406/1406 [==============================] - 49s 35ms/step - loss: 2.4984 - accuracy: 0.3721 - val_loss: 2.6818 - val_accuracy: 0.3430\n",
            "Epoch 16/50\n",
            "1406/1406 [==============================] - 49s 35ms/step - loss: 2.4628 - accuracy: 0.3780 - val_loss: 2.6630 - val_accuracy: 0.3464\n",
            "Epoch 17/50\n",
            "1406/1406 [==============================] - 49s 35ms/step - loss: 2.4325 - accuracy: 0.3857 - val_loss: 2.8019 - val_accuracy: 0.3282\n",
            "Epoch 18/50\n",
            "1406/1406 [==============================] - 49s 35ms/step - loss: 2.3945 - accuracy: 0.3973 - val_loss: 2.6127 - val_accuracy: 0.3660\n",
            "Epoch 19/50\n",
            "1406/1406 [==============================] - 49s 35ms/step - loss: 2.3769 - accuracy: 0.4021 - val_loss: 2.6412 - val_accuracy: 0.3578\n",
            "Epoch 20/50\n",
            "1406/1406 [==============================] - 50s 35ms/step - loss: 2.3455 - accuracy: 0.4024 - val_loss: 2.7573 - val_accuracy: 0.3358\n",
            "Epoch 21/50\n",
            "1406/1406 [==============================] - 49s 35ms/step - loss: 2.3230 - accuracy: 0.4084 - val_loss: 2.6032 - val_accuracy: 0.3596\n",
            "Epoch 22/50\n",
            "1406/1406 [==============================] - 49s 35ms/step - loss: 2.3026 - accuracy: 0.4136 - val_loss: 2.5011 - val_accuracy: 0.3822\n",
            "Epoch 23/50\n",
            "1406/1406 [==============================] - 49s 35ms/step - loss: 2.2690 - accuracy: 0.4193 - val_loss: 2.6074 - val_accuracy: 0.3656\n",
            "Epoch 24/50\n",
            "1406/1406 [==============================] - 49s 35ms/step - loss: 2.2587 - accuracy: 0.4219 - val_loss: 2.5633 - val_accuracy: 0.3810\n",
            "Epoch 25/50\n",
            "1406/1406 [==============================] - 49s 35ms/step - loss: 2.2348 - accuracy: 0.4274 - val_loss: 2.4513 - val_accuracy: 0.4060\n",
            "Epoch 26/50\n",
            "1406/1406 [==============================] - 49s 35ms/step - loss: 2.2100 - accuracy: 0.4350 - val_loss: 2.5169 - val_accuracy: 0.3866\n",
            "Epoch 27/50\n",
            "1406/1406 [==============================] - 50s 35ms/step - loss: 2.1920 - accuracy: 0.4352 - val_loss: 2.5420 - val_accuracy: 0.3846\n",
            "Epoch 28/50\n",
            "1406/1406 [==============================] - 49s 35ms/step - loss: 2.1739 - accuracy: 0.4413 - val_loss: 2.6006 - val_accuracy: 0.3824\n",
            "Epoch 29/50\n",
            "1406/1406 [==============================] - 49s 35ms/step - loss: 2.1610 - accuracy: 0.4447 - val_loss: 2.5259 - val_accuracy: 0.3806\n",
            "Epoch 30/50\n",
            "1406/1406 [==============================] - 49s 35ms/step - loss: 2.1464 - accuracy: 0.4492 - val_loss: 2.5979 - val_accuracy: 0.3750\n",
            "Epoch 31/50\n",
            "1406/1406 [==============================] - 50s 35ms/step - loss: 2.1451 - accuracy: 0.4501 - val_loss: 2.5800 - val_accuracy: 0.3776\n",
            "Epoch 32/50\n",
            "1406/1406 [==============================] - 50s 35ms/step - loss: 2.1178 - accuracy: 0.4556 - val_loss: 2.5917 - val_accuracy: 0.3846\n",
            "Epoch 33/50\n",
            "1406/1406 [==============================] - 49s 35ms/step - loss: 2.1070 - accuracy: 0.4574 - val_loss: 2.4871 - val_accuracy: 0.3982\n",
            "Epoch 34/50\n",
            "1406/1406 [==============================] - 49s 35ms/step - loss: 2.0888 - accuracy: 0.4609 - val_loss: 2.4904 - val_accuracy: 0.3994\n",
            "Epoch 35/50\n",
            "1406/1406 [==============================] - 50s 35ms/step - loss: 2.0636 - accuracy: 0.4661 - val_loss: 2.4590 - val_accuracy: 0.4136\n",
            "Epoch 36/50\n",
            "1406/1406 [==============================] - 50s 35ms/step - loss: 2.0653 - accuracy: 0.4686 - val_loss: 2.6290 - val_accuracy: 0.3800\n",
            "Epoch 37/50\n",
            "1406/1406 [==============================] - 49s 35ms/step - loss: 2.0535 - accuracy: 0.4684 - val_loss: 2.5062 - val_accuracy: 0.4062\n",
            "Epoch 38/50\n",
            "1406/1406 [==============================] - 49s 35ms/step - loss: 2.0498 - accuracy: 0.4714 - val_loss: 2.5474 - val_accuracy: 0.3948\n",
            "Epoch 39/50\n",
            "1406/1406 [==============================] - 50s 35ms/step - loss: 2.0363 - accuracy: 0.4718 - val_loss: 2.4567 - val_accuracy: 0.4080\n",
            "Epoch 40/50\n",
            "1406/1406 [==============================] - 49s 35ms/step - loss: 2.0196 - accuracy: 0.4760 - val_loss: 2.5776 - val_accuracy: 0.3956\n",
            "Epoch 41/50\n",
            "1406/1406 [==============================] - 50s 35ms/step - loss: 2.0283 - accuracy: 0.4737 - val_loss: 2.4990 - val_accuracy: 0.4072\n",
            "Epoch 42/50\n",
            "1406/1406 [==============================] - 49s 35ms/step - loss: 2.0087 - accuracy: 0.4792 - val_loss: 2.5210 - val_accuracy: 0.4032\n",
            "Epoch 43/50\n",
            "1406/1406 [==============================] - 50s 35ms/step - loss: 1.9898 - accuracy: 0.4853 - val_loss: 2.4602 - val_accuracy: 0.4100\n",
            "Epoch 44/50\n",
            "1406/1406 [==============================] - 49s 35ms/step - loss: 1.9784 - accuracy: 0.4874 - val_loss: 2.6248 - val_accuracy: 0.3932\n",
            "Epoch 45/50\n",
            "1406/1406 [==============================] - 49s 35ms/step - loss: 1.9669 - accuracy: 0.4889 - val_loss: 2.4623 - val_accuracy: 0.4054\n",
            "Epoch 46/50\n",
            "1406/1406 [==============================] - 49s 35ms/step - loss: 1.9639 - accuracy: 0.4913 - val_loss: 2.4544 - val_accuracy: 0.4178\n",
            "Epoch 47/50\n",
            "1406/1406 [==============================] - 50s 35ms/step - loss: 1.9571 - accuracy: 0.4939 - val_loss: 2.5314 - val_accuracy: 0.4010\n",
            "Epoch 48/50\n",
            "1406/1406 [==============================] - 49s 35ms/step - loss: 1.9461 - accuracy: 0.4920 - val_loss: 2.6051 - val_accuracy: 0.3940\n",
            "Epoch 49/50\n",
            "1406/1406 [==============================] - 49s 35ms/step - loss: 1.9202 - accuracy: 0.4985 - val_loss: 2.5390 - val_accuracy: 0.3926\n",
            "Epoch 50/50\n",
            "1406/1406 [==============================] - 50s 35ms/step - loss: 1.9195 - accuracy: 0.4995 - val_loss: 2.4969 - val_accuracy: 0.4062\n"
          ]
        }
      ]
    },
    {
      "cell_type": "markdown",
      "source": [
        "### Plot Model Performance"
      ],
      "metadata": {
        "id": "7umFV7g_rUqC"
      }
    },
    {
      "cell_type": "code",
      "source": [
        "# Plot Model Performance\n",
        "### YOUR CODE HERE ###\n",
        "\n",
        "def plot_data(history):\n",
        "  plt.plot(history.history['loss'])\n",
        "  plt.plot(history.history['val_loss'])\n",
        "  plt.title('Model Loss')\n",
        "  plt.ylabel('Loss')\n",
        "  plt.xlabel('Epochs')\n",
        "  plt.legend(['train', 'test'])\n",
        "  plt.show()\n",
        "\n",
        "  plt.plot(history.history['accuracy'])\n",
        "  plt.plot(history.history['val_accuracy'])\n",
        "  plt.title('Model Accuracy')\n",
        "  plt.ylabel('Accuracy')\n",
        "  plt.xlabel('Epochs')\n",
        "  plt.legend(['train', 'test'])\n",
        "  plt.show()\n",
        "\n",
        "plot_data(history)"
      ],
      "metadata": {
        "id": "jUmhu6zyrXKf",
        "colab": {
          "base_uri": "https://localhost:8080/",
          "height": 617
        },
        "outputId": "d3b19494-9b52-48cc-e8ad-42251411a387"
      },
      "execution_count": 90,
      "outputs": [
        {
          "output_type": "display_data",
          "data": {
            "text/plain": [
              "<Figure size 432x288 with 1 Axes>"
            ],
            "image/png": "[encoded data removed]"
          },
          "metadata": {}
        },
        {
          "output_type": "display_data",
          "data": {
            "text/plain": [
              "<Figure size 432x288 with 1 Axes>"
            ],
            "image/png": "[encoded data removed]"
          },
          "metadata": {}
        }
      ]
    },
    {
      "cell_type": "code",
      "source": [
        "model.evaluate(x_val, y_val)"
      ],
      "metadata": {
        "id": "BkMG2kVwbmo5",
        "colab": {
          "base_uri": "https://localhost:8080/"
        },
        "outputId": "b712f112-eaeb-4237-84f5-197dbe870231"
      },
      "execution_count": 91,
      "outputs": [
        {
          "output_type": "stream",
          "name": "stdout",
          "text": [
            "157/157 [==============================] - 1s 8ms/step - loss: 4126.3838 - accuracy: 0.0126\n"
          ]
        },
        {
          "output_type": "execute_result",
          "data": {
            "text/plain": [
              "[4126.3837890625, 0.012600000016391277]"
            ]
          },
          "metadata": {},
          "execution_count": 91
        }
      ]
    },
    {
      "cell_type": "code",
      "source": [
        "# Make Submission Kaggle File\n",
        "def create_submission_file(model):\n",
        "  name2idx = {}\n",
        "  sample_submission = pd.read_csv('tiny-image-net-100/submission_sample.csv')\n",
        "  filename_order = sample_submission['img_id'].values\n",
        "  for i in range(len(filename_order)):\n",
        "    name2idx[filename_order[i]] = i\n",
        "\n",
        "  # Google colab reads the files in a different order than the answer file was created.\n",
        "  # This is done to preserve the file order.\n",
        "  result_dict = {'img_id': [None]*len(x_test),\n",
        "                'label':[None]*len(x_test)}\n",
        "  test_preds = np.argmax(model.predict(x_test/255.),axis=-1)\n",
        "\n",
        "  for i in range(len(test_image_names)):\n",
        "    test_image_name = test_image_names[i]\n",
        "    result_dict['img_id'][name2idx[test_image_name]] = test_image_name\n",
        "    result_dict['label'][name2idx[test_image_name]] = test_preds[i]\n",
        "\n",
        "  pd.DataFrame(result_dict).to_csv('submission.csv', index=False)"
      ],
      "metadata": {
        "id": "be60AJz3dbm2"
      },
      "execution_count": 92,
      "outputs": []
    },
    {
      "cell_type": "code",
      "source": [
        "# Create your submission file and download it.\n",
        "create_submission_file(model)\n"
      ],
      "metadata": {
        "id": "01m0eGmqdyAb"
      },
      "execution_count": 93,
      "outputs": []
    },
    {
      "cell_type": "markdown",
      "source": [
        "You made it this far! You may have noticed your accuracy is not that great to improve on it do the following:\n",
        "\n",
        "i) Design a more complex neural network architecture. (Transfer learning may help)\n",
        "\n",
        "ii) Utilize data augmentation during training.\n",
        "\n",
        "\n",
        "Experiment often and save your models. \n",
        "\n",
        "When you are satisfied submit your predictions to Kaggle. \n",
        "\n",
        "Good luck!"
      ],
      "metadata": {
        "id": "CLtbnfbtx078"
      }
    }
  ],
  "metadata": {
    "colab": {
      "collapsed_sections": [],
      "name": "imageNet.ipynb",
      "provenance": [],
      "machine_shape": "hm",
      "include_colab_link": true
    },
    "interpreter": {
      "hash": "3afe1e4ce7822ba0e325ee279bb4d100dadd903c2abe2139ffec7391692aa1eb"
    },
    "kernelspec": {
      "display_name": "Python 3.6.13 ('zichao')",
      "language": "python",
      "name": "python3"
    },
    "language_info": {
      "codemirror_mode": {
        "name": "ipython",
        "version": 3
      },
      "file_extension": ".py",
      "mimetype": "text/x-python",
      "name": "python",
      "nbconvert_exporter": "python",
      "pygments_lexer": "ipython3",
      "version": "3.6.13"
    },
    "orig_nbformat": 4,
    "accelerator": "GPU"
  },
  "nbformat": 4,
  "nbformat_minor": 0
}