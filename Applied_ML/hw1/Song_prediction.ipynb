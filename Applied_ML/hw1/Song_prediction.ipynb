{
  "cells": [
    {
      "cell_type": "markdown",
      "metadata": {
        "id": "R3SW8S-xw-ja"
      },
      "source": [
        "# CSE 144 Spring 2022 Assignment 1\n",
        "\n",
        "In this assignment, the goal is to build a linear regression model to predict the song popularity based on energy, acoustics, instumentalness, liveness, dancibility, etc. We'll be using the [Song Popularity Dataset](https://www.kaggle.com/datasets/yasserh/song-popularity-dataset) dataset from Kaggle dataset.\n",
        "\n",
        "In the first section, you'll perform standard data preprocessing using techniques we covered in class. In the second section, you'll train a simple linear regression model.\n",
        "\n",
        "You should be able to use NumPy, Pandas, and the `train_test_split()` function from scikit-learn to complete everything in this assignment. We also imported Matplotlib for you to visualize the training and validation loss.\n",
        "\n",
        "Remember that tuning on the test loss is prohibited.\n",
        "\n",
        "## Rubric\n",
        "\n",
        "The assignment is worth 57 points in total:\n",
        "- Data preprocessing (12 points)\n",
        "    - drop missing values (2 points)\n",
        "    - drop outliers (5 points)\n",
        "    - normalization (5 points)\n",
        "- Dataset split (10 points)\n",
        "    - test set split (5 points)\n",
        "    - k-fold train and validation set split (5 points)\n",
        "- Linear regression (25 points)\n",
        "    - MSE_loss (3 points)\n",
        "    - Gradient (5 points)\n",
        "    - Specify the epoch number and learning rate (0 points)\n",
        "    - Theta initialization (3 points)\n",
        "    - Translate dataframe to numpy (3 points)\n",
        "    - Traininig (5 points)\n",
        "        - Save train and val loss (2 points)\n",
        "        - Update parameters (3 points)\n",
        "    - Find best parameters (3 points)\n",
        "    - Evaluate on test set (3 points)\n",
        "    \n",
        "- Report (10 points, in a separate PDF file)\n",
        "- Bonus (3 points)\n",
        "    - If your test loss is below 0.025"
      ]
    },
    {
      "cell_type": "code",
      "execution_count": 20,
      "metadata": {
        "id": "BSzbdL9NUV0K",
        "colab": {
          "base_uri": "https://localhost:8080/"
        },
        "outputId": "9acff78a-2c0d-48ba-e74d-00495d448758"
      },
      "outputs": [
        {
          "output_type": "stream",
          "name": "stdout",
          "text": [
            "Python 3.7.13\n"
          ]
        }
      ],
      "source": [
        "!python --version"
      ]
    },
    {
      "cell_type": "code",
      "execution_count": 21,
      "metadata": {
        "id": "O3qPeXtUw76-"
      },
      "outputs": [],
      "source": [
        "#Tuple: you can change \n",
        "from typing import List, Tuple\n",
        "#marplotlib is the library for plotting\n",
        "import matplotlib.pyplot as plt\n",
        "#one of the fundamental packages for scientific computing contains the ndarray\n",
        "import numpy as np\n",
        "#pandas is the python library for data wrangling and analysis DataFrame \n",
        "import pandas as pd\n",
        "#X is the data that is a two dimensional array(matrix), y is the data that is one dimensional arrat(a vector)\n",
        "from sklearn.model_selection import train_test_split\n",
        "\n",
        "from tqdm.notebook import trange\n",
        "\n",
        "import random\n",
        "seed = 144\n",
        "random.seed(seed)\n",
        "np.random.seed(seed)"
      ]
    },
    {
      "cell_type": "code",
      "source": [
        "from google.colab import files\n",
        "uploaded = files.upload()"
      ],
      "metadata": {
        "id": "GA38o8PwJ46g",
        "colab": {
          "resources": {
            "http://localhost:8080/nbextensions/google.colab/files.js": {
              "data": "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",
              "ok": true,
              "headers": [
                [
                  "content-type",
                  "application/javascript"
                ]
              ],
              "status": 200,
              "status_text": ""
            }
          },
          "base_uri": "https://localhost:8080/",
          "height": 75
        },
        "outputId": "f7a7319d-bdf6-47bb-b10f-7d5bc33aaf5a"
      },
      "execution_count": 22,
      "outputs": [
        {
          "output_type": "display_data",
          "data": {
            "text/plain": [
              "<IPython.core.display.HTML object>"
            ],
            "text/html": [
              "\n",
              "     <input type=\"file\" id=\"files-51dd9fcd-2b67-443c-b4ce-a0bcc007c35b\" name=\"files[]\" multiple disabled\n",
              "        style=\"border:none\" />\n",
              "     <output id=\"result-51dd9fcd-2b67-443c-b4ce-a0bcc007c35b\">\n",
              "      Upload widget is only available when the cell has been executed in the\n",
              "      current browser session. Please rerun this cell to enable.\n",
              "      </output>\n",
              "      <script src=\"/nbextensions/google.colab/files.js\"></script> "
            ]
          },
          "metadata": {}
        },
        {
          "output_type": "stream",
          "name": "stdout",
          "text": [
            "Saving song_data.csv to song_data (2).csv\n"
          ]
        }
      ]
    },
    {
      "cell_type": "code",
      "source": [
        "import io\n",
        "import pandas as pd\n",
        "df2 = pd.read_csv(io.BytesIO(uploaded['song_data.csv']))\n",
        "# Dataset is now stored in a Pandas Dataframe"
      ],
      "metadata": {
        "id": "Bv1j5NIgYl6i"
      },
      "execution_count": 23,
      "outputs": []
    },
    {
      "cell_type": "markdown",
      "source": [
        "import io for binary data"
      ],
      "metadata": {
        "id": "NHktBf7xZMzY"
      }
    },
    {
      "cell_type": "code",
      "execution_count": 24,
      "metadata": {
        "id": "h2cgFdjMFtRd",
        "colab": {
          "base_uri": "https://localhost:8080/",
          "height": 1000
        },
        "outputId": "7efef45a-0ca1-4e70-ad86-00060aaf18b7"
      },
      "outputs": [
        {
          "output_type": "stream",
          "name": "stdout",
          "text": [
            "<class 'pandas.core.frame.DataFrame'>\n",
            "Int64Index: 18835 entries, 0 to 18834\n",
            "Data columns (total 13 columns):\n",
            " #   Column            Non-Null Count  Dtype  \n",
            "---  ------            --------------  -----  \n",
            " 0   song_popularity   18714 non-null  float64\n",
            " 1   song_duration_ms  18717 non-null  float64\n",
            " 2   acousticness      18717 non-null  float64\n",
            " 3   danceability      18712 non-null  float64\n",
            " 4   energy            18697 non-null  float64\n",
            " 5   instrumentalness  18700 non-null  float64\n",
            " 6   key               18721 non-null  float64\n",
            " 7   liveness          18695 non-null  float64\n",
            " 8   loudness          18716 non-null  float64\n",
            " 9   audio_mode        18715 non-null  float64\n",
            " 10  speechiness       18727 non-null  float64\n",
            " 11  tempo             18715 non-null  float64\n",
            " 12  audio_valence     18709 non-null  float64\n",
            "dtypes: float64(13)\n",
            "memory usage: 2.0 MB\n"
          ]
        },
        {
          "output_type": "execute_result",
          "data": {
            "text/plain": [
              "array([[<matplotlib.axes._subplots.AxesSubplot object at 0x7fd0f9cabcd0>,\n",
              "        <matplotlib.axes._subplots.AxesSubplot object at 0x7fd0f9b8c450>,\n",
              "        <matplotlib.axes._subplots.AxesSubplot object at 0x7fd0f9c42950>,\n",
              "        <matplotlib.axes._subplots.AxesSubplot object at 0x7fd0f9c648d0>],\n",
              "       [<matplotlib.axes._subplots.AxesSubplot object at 0x7fd0fab76d10>,\n",
              "        <matplotlib.axes._subplots.AxesSubplot object at 0x7fd0faaa3b50>,\n",
              "        <matplotlib.axes._subplots.AxesSubplot object at 0x7fd0fab277d0>,\n",
              "        <matplotlib.axes._subplots.AxesSubplot object at 0x7fd0faadac10>],\n",
              "       [<matplotlib.axes._subplots.AxesSubplot object at 0x7fd0faadac50>,\n",
              "        <matplotlib.axes._subplots.AxesSubplot object at 0x7fd0f9c18290>,\n",
              "        <matplotlib.axes._subplots.AxesSubplot object at 0x7fd0f9b45f50>,\n",
              "        <matplotlib.axes._subplots.AxesSubplot object at 0x7fd0f9b0d350>],\n",
              "       [<matplotlib.axes._subplots.AxesSubplot object at 0x7fd0f9ac3590>,\n",
              "        <matplotlib.axes._subplots.AxesSubplot object at 0x7fd0f9a7aad0>,\n",
              "        <matplotlib.axes._subplots.AxesSubplot object at 0x7fd0f9ab1f90>,\n",
              "        <matplotlib.axes._subplots.AxesSubplot object at 0x7fd0f9a754d0>]],\n",
              "      dtype=object)"
            ]
          },
          "metadata": {},
          "execution_count": 24
        },
        {
          "output_type": "display_data",
          "data": {
            "text/plain": [
              "<Figure size 1008x1008 with 16 Axes>"
            ],
            "image/png": "[encoded data removed]"
          },
          "metadata": {
            "needs_background": "light"
          }
        }
      ],
      "source": [
        "# Load data\n",
        "df = pd.read_csv(\"./song_data.csv\", index_col=0).drop([\"song_name\"], axis = 1) #axis = 1 all the row line(가로) add up\n",
        "# Visualize data \n",
        "df.info()\n",
        "df.hist(figsize=(14,14))"
      ]
    },
    {
      "cell_type": "markdown",
      "metadata": {
        "id": "g6gwtOTcFtRe"
      },
      "source": [
        "### Data Cleaning\n",
        "`data.info()` shows that there are some missing values in the dataset. Also, we can see from the histogram that outliers exist for some features. Moreover, the range of different features has a huge gap: most in (0,1), but some are on the order of 1e2, or even 1e5. In the following you need to perform:\n",
        "1. Drop rows that contain NULL values.\n",
        "2. Remove outliers for features in ['song_duration_ms', 'instrumentalness'] based on interquantile range.\n",
        "3. Scale ranges of independent variables using Z-score method, and normalize the range of dependent feature ['song_popularity'] from [0,100] to [0,1]"
      ]
    },
    {
      "cell_type": "code",
      "execution_count": 25,
      "metadata": {
        "id": "wmUF4Ex3FtRf",
        "colab": {
          "base_uri": "https://localhost:8080/",
          "height": 423
        },
        "outputId": "ae850574-44fa-478f-b608-272cdf99a813"
      },
      "outputs": [
        {
          "output_type": "execute_result",
          "data": {
            "text/plain": [
              "       song_popularity  song_duration_ms  acousticness  danceability  \\\n",
              "0                 0.91         -0.686915      0.253264      0.691461   \n",
              "1                 0.37          0.381193     -0.037887      0.919680   \n",
              "2                 0.24          0.381242     -0.185354      1.060639   \n",
              "3                 0.39          0.382168     -0.706779      1.389543   \n",
              "4                 0.70          0.382168     -0.748751      1.382831   \n",
              "...                ...               ...           ...           ...   \n",
              "12927             0.75         -0.844907      1.459463      0.416255   \n",
              "12928             0.03          2.457527     -0.901889      0.228310   \n",
              "12929             0.75         -0.844907      1.459463      0.416255   \n",
              "12930             0.75         -0.844907      1.459463      0.416255   \n",
              "12931             0.50         -0.918515     -0.847440     -0.046896   \n",
              "\n",
              "         energy  instrumentalness       key  liveness  loudness  audio_mode  \\\n",
              "0      0.484457         -0.349534  0.185625  0.353312  0.652485    0.767237   \n",
              "1      0.792608         -0.349534  0.738164 -0.851488  0.300810   -1.303278   \n",
              "2     -0.568392         -0.349534 -0.366913 -0.640509 -0.316890   -1.303278   \n",
              "3     -0.265377         -0.349534 -1.471991  0.915460  0.748885    0.767237   \n",
              "4     -0.214018         -0.349534 -1.471991  0.970981  0.704548    0.767237   \n",
              "...         ...               ...       ...       ...       ...         ...   \n",
              "12927 -0.635158          6.426755  1.290702 -0.604421 -0.267850   -1.303278   \n",
              "12928  0.540951          6.426755  1.014433 -0.521140 -0.447550    0.767237   \n",
              "12929 -0.635158          6.426755  1.290702 -0.604421 -0.267850   -1.303278   \n",
              "12930 -0.635158          6.426755  1.290702 -0.604421 -0.267850   -1.303278   \n",
              "12931  1.095623          6.441422  1.014433 -0.952119  0.353209    0.767237   \n",
              "\n",
              "       speechiness     tempo  audio_valence  \n",
              "0         2.192218  2.058590       1.507623  \n",
              "1        -0.379773  0.767026       1.209852  \n",
              "2        -0.394635  0.173419      -0.168402  \n",
              "3        -0.350050 -0.916949       0.456917  \n",
              "4        -0.318469 -0.916984       0.588787  \n",
              "...            ...       ...            ...  \n",
              "12927     0.464553 -1.155997       0.669610  \n",
              "12928    -0.168924 -0.528200      -0.687375  \n",
              "12929     0.464553 -1.155997       0.669610  \n",
              "12930     0.464553 -1.155997       0.669610  \n",
              "12931    -0.603627 -0.766376       1.129029  \n",
              "\n",
              "[12932 rows x 13 columns]"
            ],
            "text/html": [
              "\n",
              "  <div id=\"df-827dcbcc-1a64-40bb-adcb-14f0d865dd73\">\n",
              "    <div class=\"colab-df-container\">\n",
              "      <div>\n",
              "<style scoped>\n",
              "    .dataframe tbody tr th:only-of-type {\n",
              "        vertical-align: middle;\n",
              "    }\n",
              "\n",
              "    .dataframe tbody tr th {\n",
              "        vertical-align: top;\n",
              "    }\n",
              "\n",
              "    .dataframe thead th {\n",
              "        text-align: right;\n",
              "    }\n",
              "</style>\n",
              "<table border=\"1\" class=\"dataframe\">\n",
              "  <thead>\n",
              "    <tr style=\"text-align: right;\">\n",
              "      <th></th>\n",
              "      <th>song_popularity</th>\n",
              "      <th>song_duration_ms</th>\n",
              "      <th>acousticness</th>\n",
              "      <th>danceability</th>\n",
              "      <th>energy</th>\n",
              "      <th>instrumentalness</th>\n",
              "      <th>key</th>\n",
              "      <th>liveness</th>\n",
              "      <th>loudness</th>\n",
              "      <th>audio_mode</th>\n",
              "      <th>speechiness</th>\n",
              "      <th>tempo</th>\n",
              "      <th>audio_valence</th>\n",
              "    </tr>\n",
              "  </thead>\n",
              "  <tbody>\n",
              "    <tr>\n",
              "      <th>0</th>\n",
              "      <td>0.91</td>\n",
              "      <td>-0.686915</td>\n",
              "      <td>0.253264</td>\n",
              "      <td>0.691461</td>\n",
              "      <td>0.484457</td>\n",
              "      <td>-0.349534</td>\n",
              "      <td>0.185625</td>\n",
              "      <td>0.353312</td>\n",
              "      <td>0.652485</td>\n",
              "      <td>0.767237</td>\n",
              "      <td>2.192218</td>\n",
              "      <td>2.058590</td>\n",
              "      <td>1.507623</td>\n",
              "    </tr>\n",
              "    <tr>\n",
              "      <th>1</th>\n",
              "      <td>0.37</td>\n",
              "      <td>0.381193</td>\n",
              "      <td>-0.037887</td>\n",
              "      <td>0.919680</td>\n",
              "      <td>0.792608</td>\n",
              "      <td>-0.349534</td>\n",
              "      <td>0.738164</td>\n",
              "      <td>-0.851488</td>\n",
              "      <td>0.300810</td>\n",
              "      <td>-1.303278</td>\n",
              "      <td>-0.379773</td>\n",
              "      <td>0.767026</td>\n",
              "      <td>1.209852</td>\n",
              "    </tr>\n",
              "    <tr>\n",
              "      <th>2</th>\n",
              "      <td>0.24</td>\n",
              "      <td>0.381242</td>\n",
              "      <td>-0.185354</td>\n",
              "      <td>1.060639</td>\n",
              "      <td>-0.568392</td>\n",
              "      <td>-0.349534</td>\n",
              "      <td>-0.366913</td>\n",
              "      <td>-0.640509</td>\n",
              "      <td>-0.316890</td>\n",
              "      <td>-1.303278</td>\n",
              "      <td>-0.394635</td>\n",
              "      <td>0.173419</td>\n",
              "      <td>-0.168402</td>\n",
              "    </tr>\n",
              "    <tr>\n",
              "      <th>3</th>\n",
              "      <td>0.39</td>\n",
              "      <td>0.382168</td>\n",
              "      <td>-0.706779</td>\n",
              "      <td>1.389543</td>\n",
              "      <td>-0.265377</td>\n",
              "      <td>-0.349534</td>\n",
              "      <td>-1.471991</td>\n",
              "      <td>0.915460</td>\n",
              "      <td>0.748885</td>\n",
              "      <td>0.767237</td>\n",
              "      <td>-0.350050</td>\n",
              "      <td>-0.916949</td>\n",
              "      <td>0.456917</td>\n",
              "    </tr>\n",
              "    <tr>\n",
              "      <th>4</th>\n",
              "      <td>0.70</td>\n",
              "      <td>0.382168</td>\n",
              "      <td>-0.748751</td>\n",
              "      <td>1.382831</td>\n",
              "      <td>-0.214018</td>\n",
              "      <td>-0.349534</td>\n",
              "      <td>-1.471991</td>\n",
              "      <td>0.970981</td>\n",
              "      <td>0.704548</td>\n",
              "      <td>0.767237</td>\n",
              "      <td>-0.318469</td>\n",
              "      <td>-0.916984</td>\n",
              "      <td>0.588787</td>\n",
              "    </tr>\n",
              "    <tr>\n",
              "      <th>...</th>\n",
              "      <td>...</td>\n",
              "      <td>...</td>\n",
              "      <td>...</td>\n",
              "      <td>...</td>\n",
              "      <td>...</td>\n",
              "      <td>...</td>\n",
              "      <td>...</td>\n",
              "      <td>...</td>\n",
              "      <td>...</td>\n",
              "      <td>...</td>\n",
              "      <td>...</td>\n",
              "      <td>...</td>\n",
              "      <td>...</td>\n",
              "    </tr>\n",
              "    <tr>\n",
              "      <th>12927</th>\n",
              "      <td>0.75</td>\n",
              "      <td>-0.844907</td>\n",
              "      <td>1.459463</td>\n",
              "      <td>0.416255</td>\n",
              "      <td>-0.635158</td>\n",
              "      <td>6.426755</td>\n",
              "      <td>1.290702</td>\n",
              "      <td>-0.604421</td>\n",
              "      <td>-0.267850</td>\n",
              "      <td>-1.303278</td>\n",
              "      <td>0.464553</td>\n",
              "      <td>-1.155997</td>\n",
              "      <td>0.669610</td>\n",
              "    </tr>\n",
              "    <tr>\n",
              "      <th>12928</th>\n",
              "      <td>0.03</td>\n",
              "      <td>2.457527</td>\n",
              "      <td>-0.901889</td>\n",
              "      <td>0.228310</td>\n",
              "      <td>0.540951</td>\n",
              "      <td>6.426755</td>\n",
              "      <td>1.014433</td>\n",
              "      <td>-0.521140</td>\n",
              "      <td>-0.447550</td>\n",
              "      <td>0.767237</td>\n",
              "      <td>-0.168924</td>\n",
              "      <td>-0.528200</td>\n",
              "      <td>-0.687375</td>\n",
              "    </tr>\n",
              "    <tr>\n",
              "      <th>12929</th>\n",
              "      <td>0.75</td>\n",
              "      <td>-0.844907</td>\n",
              "      <td>1.459463</td>\n",
              "      <td>0.416255</td>\n",
              "      <td>-0.635158</td>\n",
              "      <td>6.426755</td>\n",
              "      <td>1.290702</td>\n",
              "      <td>-0.604421</td>\n",
              "      <td>-0.267850</td>\n",
              "      <td>-1.303278</td>\n",
              "      <td>0.464553</td>\n",
              "      <td>-1.155997</td>\n",
              "      <td>0.669610</td>\n",
              "    </tr>\n",
              "    <tr>\n",
              "      <th>12930</th>\n",
              "      <td>0.75</td>\n",
              "      <td>-0.844907</td>\n",
              "      <td>1.459463</td>\n",
              "      <td>0.416255</td>\n",
              "      <td>-0.635158</td>\n",
              "      <td>6.426755</td>\n",
              "      <td>1.290702</td>\n",
              "      <td>-0.604421</td>\n",
              "      <td>-0.267850</td>\n",
              "      <td>-1.303278</td>\n",
              "      <td>0.464553</td>\n",
              "      <td>-1.155997</td>\n",
              "      <td>0.669610</td>\n",
              "    </tr>\n",
              "    <tr>\n",
              "      <th>12931</th>\n",
              "      <td>0.50</td>\n",
              "      <td>-0.918515</td>\n",
              "      <td>-0.847440</td>\n",
              "      <td>-0.046896</td>\n",
              "      <td>1.095623</td>\n",
              "      <td>6.441422</td>\n",
              "      <td>1.014433</td>\n",
              "      <td>-0.952119</td>\n",
              "      <td>0.353209</td>\n",
              "      <td>0.767237</td>\n",
              "      <td>-0.603627</td>\n",
              "      <td>-0.766376</td>\n",
              "      <td>1.129029</td>\n",
              "    </tr>\n",
              "  </tbody>\n",
              "</table>\n",
              "<p>12932 rows × 13 columns</p>\n",
              "</div>\n",
              "      <button class=\"colab-df-convert\" onclick=\"convertToInteractive('df-827dcbcc-1a64-40bb-adcb-14f0d865dd73')\"\n",
              "              title=\"Convert this dataframe to an interactive table.\"\n",
              "              style=\"display:none;\">\n",
              "        \n",
              "  <svg xmlns=\"http://www.w3.org/2000/svg\" height=\"24px\"viewBox=\"0 0 24 24\"\n",
              "       width=\"24px\">\n",
              "    <path d=\"M0 0h24v24H0V0z\" fill=\"none\"/>\n",
              "    <path d=\"M18.56 5.44l.94 2.06.94-2.06 2.06-.94-2.06-.94-.94-2.06-.94 2.06-2.06.94zm-11 1L8.5 8.5l.94-2.06 2.06-.94-2.06-.94L8.5 2.5l-.94 2.06-2.06.94zm10 10l.94 2.06.94-2.06 2.06-.94-2.06-.94-.94-2.06-.94 2.06-2.06.94z\"/><path d=\"M17.41 7.96l-1.37-1.37c-.4-.4-.92-.59-1.43-.59-.52 0-1.04.2-1.43.59L10.3 9.45l-7.72 7.72c-.78.78-.78 2.05 0 2.83L4 21.41c.39.39.9.59 1.41.59.51 0 1.02-.2 1.41-.59l7.78-7.78 2.81-2.81c.8-.78.8-2.07 0-2.86zM5.41 20L4 18.59l7.72-7.72 1.47 1.35L5.41 20z\"/>\n",
              "  </svg>\n",
              "      </button>\n",
              "      \n",
              "  <style>\n",
              "    .colab-df-container {\n",
              "      display:flex;\n",
              "      flex-wrap:wrap;\n",
              "      gap: 12px;\n",
              "    }\n",
              "\n",
              "    .colab-df-convert {\n",
              "      background-color: #E8F0FE;\n",
              "      border: none;\n",
              "      border-radius: 50%;\n",
              "      cursor: pointer;\n",
              "      display: none;\n",
              "      fill: #1967D2;\n",
              "      height: 32px;\n",
              "      padding: 0 0 0 0;\n",
              "      width: 32px;\n",
              "    }\n",
              "\n",
              "    .colab-df-convert:hover {\n",
              "      background-color: #E2EBFA;\n",
              "      box-shadow: 0px 1px 2px rgba(60, 64, 67, 0.3), 0px 1px 3px 1px rgba(60, 64, 67, 0.15);\n",
              "      fill: #174EA6;\n",
              "    }\n",
              "\n",
              "    [theme=dark] .colab-df-convert {\n",
              "      background-color: #3B4455;\n",
              "      fill: #D2E3FC;\n",
              "    }\n",
              "\n",
              "    [theme=dark] .colab-df-convert:hover {\n",
              "      background-color: #434B5C;\n",
              "      box-shadow: 0px 1px 3px 1px rgba(0, 0, 0, 0.15);\n",
              "      filter: drop-shadow(0px 1px 2px rgba(0, 0, 0, 0.3));\n",
              "      fill: #FFFFFF;\n",
              "    }\n",
              "  </style>\n",
              "\n",
              "      <script>\n",
              "        const buttonEl =\n",
              "          document.querySelector('#df-827dcbcc-1a64-40bb-adcb-14f0d865dd73 button.colab-df-convert');\n",
              "        buttonEl.style.display =\n",
              "          google.colab.kernel.accessAllowed ? 'block' : 'none';\n",
              "\n",
              "        async function convertToInteractive(key) {\n",
              "          const element = document.querySelector('#df-827dcbcc-1a64-40bb-adcb-14f0d865dd73');\n",
              "          const dataTable =\n",
              "            await google.colab.kernel.invokeFunction('convertToInteractive',\n",
              "                                                     [key], {});\n",
              "          if (!dataTable) return;\n",
              "\n",
              "          const docLinkHtml = 'Like what you see? Visit the ' +\n",
              "            '<a target=\"_blank\" href=https://colab.research.google.com/notebooks/data_table.ipynb>data table notebook</a>'\n",
              "            + ' to learn more about interactive tables.';\n",
              "          element.innerHTML = '';\n",
              "          dataTable['output_type'] = 'display_data';\n",
              "          await google.colab.output.renderOutput(dataTable, element);\n",
              "          const docLink = document.createElement('div');\n",
              "          docLink.innerHTML = docLinkHtml;\n",
              "          element.appendChild(docLink);\n",
              "        }\n",
              "      </script>\n",
              "    </div>\n",
              "  </div>\n",
              "  "
            ]
          },
          "metadata": {},
          "execution_count": 25
        }
      ],
      "source": [
        "# drop rows that have NULL value\n",
        "# ========== YOUR CODE STARTS HERE ==========\n",
        "#Drop all the rows with any NULL/NAT/NAN values\n",
        "#data = df.dropna(axis=0, how = 'all', subset=None, inplace=False)\n",
        "data = df.dropna()\n",
        "data = data.reset_index(drop=True)\n",
        "\n",
        "# ========== YOUR CODE ENDS HERE ============\n",
        "'''\n",
        "Remove outliers for features in ['song_duration_ms', 'instrumentalness'] \n",
        "based on interquantile range. Here for each feature, we first sort data in an ascending order.\n",
        "Let q1 and q3 be the data that ranks 25% and 75% respectively. We then let iqr = q3 - q1, and \n",
        "compute \n",
        "                a = q1 - iqr x 1.5,\n",
        "                b = q3 + iqr x 1.5,\n",
        "and remove the data out of the range [a, b].\n",
        "Note: this can be realized with function quantile().\n",
        "'''\n",
        "for feature in ['song_duration_ms', 'instrumentalness']:\n",
        "\n",
        "    # ========== YOUR CODE STARTS HERE ==========\n",
        "    data = data.sort_values(feature, ascending = True)\n",
        "    q1 = data[feature].quantile(0.25)\n",
        "    q3 = data[feature].quantile(0.75)\n",
        "    iqr = q3 - q1\n",
        "    a = q1 - 1.5*iqr #lowerbound\n",
        "    b = q3 + 1.5*iqr #upperbound \n",
        "    data = data[(data[feature] > a) & (data[feature] < b)]\n",
        "\n",
        "    # ========== YOUR CODE ENDS HERE ============\n",
        "data = data.reset_index(drop=True)\n",
        "'''\n",
        "Scale all independent features using z-score normalization, and normalize dependent feature range to [0, 1]\n",
        "Note: use different mean and std for different columns!\n",
        "'''\n",
        "# ========== YOUR CODE STARTS HERE ==========\n",
        "#scale all independent feature using z score normalization, and normalize dependent feature(song_popularity) range to [0,1]\n",
        "for feature in data.columns:\n",
        "    #normalize all the feature that is not song_popularity\n",
        "    if feature != 'song_popularity':\n",
        "        # (original value - mean of data)/standard deviation of data \n",
        "        data[feature] = (data[feature] - data[feature].mean()) / data[feature].std()\n",
        "#normalize dependent faeture(song_popularity) to [0,1]\n",
        "data['song_popularity'] = (data['song_popularity'] - min(data['song_popularity'])) / (max(data['song_popularity']) - min(data['song_popularity']))\n",
        "# ========== YOUR CODE ENDS HERE ============\n",
        "data"
      ]
    },
    {
      "cell_type": "markdown",
      "metadata": {
        "id": "MbBEXGauFtRg"
      },
      "source": [
        "Now we visualize the data again."
      ]
    },
    {
      "cell_type": "code",
      "execution_count": 26,
      "metadata": {
        "id": "gr4Tn1UmFtRh",
        "colab": {
          "base_uri": "https://localhost:8080/",
          "height": 1000
        },
        "outputId": "c1506fb7-7e42-4cac-b321-cb4c42b2028c"
      },
      "outputs": [
        {
          "output_type": "stream",
          "name": "stdout",
          "text": [
            "<class 'pandas.core.frame.DataFrame'>\n",
            "RangeIndex: 12932 entries, 0 to 12931\n",
            "Data columns (total 13 columns):\n",
            " #   Column            Non-Null Count  Dtype  \n",
            "---  ------            --------------  -----  \n",
            " 0   song_popularity   12932 non-null  float64\n",
            " 1   song_duration_ms  12932 non-null  float64\n",
            " 2   acousticness      12932 non-null  float64\n",
            " 3   danceability      12932 non-null  float64\n",
            " 4   energy            12932 non-null  float64\n",
            " 5   instrumentalness  12932 non-null  float64\n",
            " 6   key               12932 non-null  float64\n",
            " 7   liveness          12932 non-null  float64\n",
            " 8   loudness          12932 non-null  float64\n",
            " 9   audio_mode        12932 non-null  float64\n",
            " 10  speechiness       12932 non-null  float64\n",
            " 11  tempo             12932 non-null  float64\n",
            " 12  audio_valence     12932 non-null  float64\n",
            "dtypes: float64(13)\n",
            "memory usage: 1.3 MB\n"
          ]
        },
        {
          "output_type": "execute_result",
          "data": {
            "text/plain": [
              "array([[<matplotlib.axes._subplots.AxesSubplot object at 0x7fd0f96ae290>,\n",
              "        <matplotlib.axes._subplots.AxesSubplot object at 0x7fd0f9608490>,\n",
              "        <matplotlib.axes._subplots.AxesSubplot object at 0x7fd0f9634990>,\n",
              "        <matplotlib.axes._subplots.AxesSubplot object at 0x7fd0f95e4e90>],\n",
              "       [<matplotlib.axes._subplots.AxesSubplot object at 0x7fd0f95a73d0>,\n",
              "        <matplotlib.axes._subplots.AxesSubplot object at 0x7fd0f955d8d0>,\n",
              "        <matplotlib.axes._subplots.AxesSubplot object at 0x7fd0f9513e50>,\n",
              "        <matplotlib.axes._subplots.AxesSubplot object at 0x7fd0f94d72d0>],\n",
              "       [<matplotlib.axes._subplots.AxesSubplot object at 0x7fd0f94d7310>,\n",
              "        <matplotlib.axes._subplots.AxesSubplot object at 0x7fd0f948e910>,\n",
              "        <matplotlib.axes._subplots.AxesSubplot object at 0x7fd0f9408250>,\n",
              "        <matplotlib.axes._subplots.AxesSubplot object at 0x7fd0f93be750>],\n",
              "       [<matplotlib.axes._subplots.AxesSubplot object at 0x7fd0f93f4c50>,\n",
              "        <matplotlib.axes._subplots.AxesSubplot object at 0x7fd0f93b8190>,\n",
              "        <matplotlib.axes._subplots.AxesSubplot object at 0x7fd0f9370790>,\n",
              "        <matplotlib.axes._subplots.AxesSubplot object at 0x7fd0f9329d10>]],\n",
              "      dtype=object)"
            ]
          },
          "metadata": {},
          "execution_count": 26
        },
        {
          "output_type": "display_data",
          "data": {
            "text/plain": [
              "<Figure size 1008x1008 with 16 Axes>"
            ],
            "image/png": "[encoded data removed]"
          },
          "metadata": {
            "needs_background": "light"
          }
        }
      ],
      "source": [
        "data.info()\n",
        "data.hist(figsize=(14,14))"
      ]
    },
    {
      "cell_type": "markdown",
      "metadata": {
        "id": "gDCncF1vfoT2"
      },
      "source": [
        "## Dataset preparation\n",
        "Next we will split dataset to train set, validation set and test set. First we randomly choose 30% as test set. Then we use $k$-fold validation on the remaining 70% to generate $k$ different train set and validation set pairs, where $k=5$."
      ]
    },
    {
      "cell_type": "code",
      "execution_count": 27,
      "metadata": {
        "colab": {
          "base_uri": "https://localhost:8080/"
        },
        "id": "cFp02NcGFtRk",
        "outputId": "62143287-f4b2-40a9-a20f-7629292ae8ab"
      },
      "outputs": [
        {
          "output_type": "stream",
          "name": "stdout",
          "text": [
            "list of X train val ['song_duration_ms', 'acousticness', 'danceability', 'energy', 'instrumentalness', 'key', 'liveness', 'loudness', 'audio_mode', 'speechiness', 'tempo', 'audio_valence']\n",
            "list of y train val ['song_popularity']\n",
            "TRAIN    song_duration_ms  acousticness  danceability    energy  instrumentalness  \\\n",
            "0          1.407803     -0.888617      1.409680 -0.249969         -0.229996   \n",
            "1          1.628212     -0.917698      0.020228  1.224019         -0.332080   \n",
            "\n",
            "        key  liveness  loudness  audio_mode  speechiness     tempo  \\\n",
            "0 -1.471991  -1.01805 -0.133494    0.767237    -0.246948 -0.211214   \n",
            "1  1.290702  -0.54890  1.384387   -1.303278    -0.492165 -1.082664   \n",
            "\n",
            "   audio_valence  \n",
            "0       1.622478  \n",
            "1       1.605462  \n",
            "OURS    song_duration_ms  acousticness  danceability    energy  instrumentalness  \\\n",
            "0          0.054455     -0.578597      1.530502  0.356061         -0.340983   \n",
            "1         -0.361372     -0.416006     -0.301964  0.951819         -0.346967   \n",
            "\n",
            "        key  liveness  loudness  audio_mode  speechiness     tempo  \\\n",
            "0  0.738164 -0.730036 -0.290018    0.767237    -0.290604 -0.770039   \n",
            "1  1.014433  2.997488  0.722686    0.767237    -0.598054 -0.216761   \n",
            "\n",
            "   audio_valence  \n",
            "0      -0.508712  \n",
            "1      -0.610805  \n"
          ]
        }
      ],
      "source": [
        "def test_split(data, test_size: float=0.3, seed=seed):\n",
        "    '''\n",
        "    train_test_split extracts 75 percents of the rows in the dataset as the training set\n",
        "    and the remaining 25 percents of the data as the test set\n",
        "    Use function train_test_split() to split test set.\n",
        "    '''\n",
        "    # ========== YOUR CODE STARTS HERE ==========\n",
        "    #Python iloc() function enables us to select a particular cell of the dataset\n",
        "    data_X = data.iloc[:,1::] #all the rows and columns except the first(song popularity)\n",
        "    data_y = data.iloc[:,0:1] #all the rows and labels(song popularity)\n",
        "    X_train_val, X_test, y_train_val, y_test = train_test_split(data_X, data_y, test_size = test_size, random_state = seed)\n",
        "    # ========== YOUR CODE ENDS HERE ============\n",
        "    # print(\"X_train_val: \\n\", X_train_val)\n",
        "    # print(\"X_test: \\n\", X_test)\n",
        "    # print(\"y_train_val: \\n\", y_train_val)\n",
        "    # print(\"y_test: \\n\", y_test)\n",
        "    return (X_train_val.reset_index(drop=True), #default the index\n",
        "            y_train_val.reset_index(drop=True),\n",
        "            X_test.reset_index(drop=True),\n",
        "            y_test.reset_index(drop=True))\n",
        "    \n",
        "\n",
        "def train_val_split(X_train_val, y_train_val, k=5, seed=seed):\n",
        "    '''\n",
        "    Use given index sets to generate k train and validation pairs. The return value should be \n",
        "    a list whose components are tuples:\n",
        "    [(X_train1, y_train1, X_val1, y_val1), ..., (X_traink, y_traink, X_valk, y_valk)]\n",
        "    Here suppose data length is 10, the index sets could be like:\n",
        "                    [[2,5], [1,6], [3,8], [9,4], [0,7]]        \n",
        "    '''\n",
        "    # shuffle the dataset randomyly\n",
        "    index_shuffle = list(X_train_val.index)\n",
        "    random.shuffle(index_shuffle)\n",
        "    index_split_list = [[index_shuffle[i+j] for i in range(0, len(index_shuffle), 5)  if i+j<len(index_shuffle)] for j in range(5)]\n",
        "    train_val_pairs = [(None, None, None, None) for _ in range(k)]\n",
        "    # ========== YOUR CODE STARTS HERE ==========\n",
        "    for i in range(k):\n",
        "      train = pd.DataFrame() #list x_train val = independent variable \n",
        "      train_label = pd.DataFrame() #dependent variable \n",
        "      val = pd.DataFrame(columns=list(X_train_val))\n",
        "      val_label = pd.DataFrame()\n",
        "      for j in range(k): \n",
        "        indices = index_split_list[j] #  [[2,5], [1,6], [3,8], [9,4], [0,7]] j = 0 ----> [2, 5]\n",
        "        if i == j:\n",
        "          for index in indices:\n",
        "            val = val.append((X_train_val.iloc[index]), ignore_index=True)\n",
        "            val_label = val_label.append((y_train_val.iloc[index]), ignore_index=True)\n",
        "        else:\n",
        "          for index in indices:\n",
        "            #train = pd.concat([train, X_train_val.iloc[:32]], ignore_index=True)\n",
        "            train = train.append((X_train_val.iloc[index]), ignore_index=True)\n",
        "            train_label = train_label.append((y_train_val.iloc[index]), ignore_index=True)\n",
        "      train_val_pairs[i] = (train, train_label, val, val_label)    \n",
        "    # ========== YOUR CODE ENDS HERE ============    \n",
        "    return train_val_pairs\n",
        "X_train_val, y_train_val, X_test, y_test = test_split(data)\n",
        "print(\"list of X train val\",list( X_train_val))\n",
        "print(\"list of y train val\", list(y_train_val))\n",
        "train_val_pairs = train_val_split(X_train_val, y_train_val)\n",
        "#print(train_val_pairs[0].isna().any(axis=None))\n",
        "print(\"TRAIN\", X_train_val[:2])\n",
        "print(\"OURS\", train_val_pairs[0][0][:2])\n",
        "# :O :|\n"
      ]
    },
    {
      "cell_type": "raw",
      "metadata": {
        "id": "9cRFbt-i1wk6"
      },
      "source": [
        "## Linear regression\n",
        "\n",
        "Hint: A convenient way to calculate $X \\cdot \\theta$ is to prepend a column of 1's to your $X$ matrix so that you don't have to perform an extra addition operation. If you used this implementation, please also add an additional dimension to your feature matrix so that they are consistent in shape. See the image below for illustration. See this [illustration](https://cs231n.github.io/linear-classify/#:~:text=Illustration%20of%20the,and%20the%20biases.) for more detail.\n",
        "\n",
        "You report should include the train, val and test loss. You can try different learning rates and epoch combinations and report the best results you get based on the validation loss."
      ]
    },
    {
      "cell_type": "code",
      "execution_count": 28,
      "metadata": {
        "id": "YZOF6w9lw3zh",
        "colab": {
          "base_uri": "https://localhost:8080/",
          "height": 615
        },
        "outputId": "baf839e1-59d4-4782-89fa-59788202f476"
      },
      "outputs": [
        {
          "output_type": "stream",
          "name": "stdout",
          "text": [
            "Final train loss for the best model: 0.1837660522356303\n",
            "Final validation loss for the best model: 0.18575221950604417\n",
            "Parameters for the best model: \n",
            " [[ 0.45339326]\n",
            " [ 0.08043035]\n",
            " [ 0.40101302]\n",
            " [ 0.29404897]\n",
            " [ 0.28387923]\n",
            " [ 0.16610985]\n",
            " [ 0.15080198]\n",
            " [ 0.11823927]\n",
            " [ 0.01710599]\n",
            " [ 0.18283374]\n",
            " [ 0.28963007]\n",
            " [ 0.06313664]\n",
            " [-0.12853278]]\n"
          ]
        },
        {
          "output_type": "display_data",
          "data": {
            "text/plain": [
              "<Figure size 432x288 with 1 Axes>"
            ],
            "image/png": "[encoded data removed]"
          },
          "metadata": {
            "needs_background": "light"
          }
        },
        {
          "output_type": "stream",
          "name": "stdout",
          "text": [
            "Test loss: song_popularity    0.18089\n",
            "dtype: float64\n"
          ]
        }
      ],
      "source": [
        "def MSE_loss(pred: np.ndarray, target: np.ndarray):\n",
        "    # ========== YOUR CODE STARTS HERE ==========\n",
        "    error = pred - target\n",
        "    squareE = error ** 2\n",
        "    mseL = squareE.sum()/(2 * len(pred))\n",
        "    return mseL\n",
        "    # ========== YOUR CODE ENDS HERE ============ \n",
        "\n",
        "def gradient(X: np.ndarray, y: np.ndarray, theta: np.ndarray):\n",
        "    # ========== YOUR CODE STARTS HERE ==========\n",
        "    grad = (X.T) @ (X @ theta - y) / X.shape[0]  # from the piazza\n",
        "    return grad \n",
        "    # ========== YOUR CODE ENDS HERE ============ \n",
        "\n",
        "# Specify epoch and learning rate\n",
        "# ========== YOUR CODE STARTS HERE ==========\n",
        "num_epochs = 100\n",
        "learning_rate = 0.01\n",
        "# ========== YOUR CODE ENDS HERE ============ \n",
        "k = 5\n",
        "train_loss_history = [[] for _ in range(k)]\n",
        "val_loss_history = [[] for _ in range(k)]\n",
        "\n",
        "theta_min = None\n",
        "index_min = None\n",
        "loss_min = None\n",
        "\n",
        "for i in range(k):\n",
        "    X_train, y_train, X_val, y_val = train_val_pairs[i]\n",
        "\n",
        "    # Translate dataframe to numpy     \n",
        "    # ========== YOUR CODE STARTS HERE ==========\n",
        "    X_train, y_train, X_val, y_val = X_train.to_numpy(), y_train.to_numpy(), X_val.to_numpy(), y_val.to_numpy()\n",
        "    X_train = np.c_[np.ones(len(X_train)), X_train]\n",
        "    X_val = np.c_[np.ones(len(X_val)), X_val]\n",
        "    # ========== YOUR CODE ENDS HERE ============\n",
        "    \n",
        "    # Initialize theta    \n",
        "    # ========== YOUR CODE STARTS HERE ==========\n",
        "    theta = np.random.rand(X_train.shape[1], 1)\n",
        "    # ========== YOUR CODE ENDS HERE ============\n",
        "\n",
        "    for epoch in range(num_epochs):\n",
        "        # Compute loss, and save to train_loss_history and val_loss_history\n",
        "        # ========== YOUR CODE STARTS HERE ==========\n",
        "        train_pred = X_train @ theta\n",
        "        val_pred = X_val @ theta\n",
        "        train_loss_history[i].append(MSE_loss(train_pred, y_train))\n",
        "        val_loss_history[i].append(MSE_loss(val_pred, y_val))\n",
        "        # ========== YOUR CODE ENDS HERE ============\n",
        "\n",
        "        # Update parameter\n",
        "        # ========== YOUR CODE STARTS HERE ==========\n",
        "        theta = theta - learning_rate * gradient(X_train, y_train, theta)\n",
        "        # ========== YOUR CODE ENDS HERE ============\n",
        "\n",
        "    \n",
        "    # Inference on validation set, and find the best parameters. Save corresponding parameters and index in theta_min and  index_min\n",
        "    # ========== YOUR CODE STARTS HERE ==========\n",
        "    if i == 0:\n",
        "        index_min = i\n",
        "        loss_min = train_loss_history[i][-1]\n",
        "    else:\n",
        "        if (train_loss_history[i-1][-1] > train_loss_history[i][-1]).all():\n",
        "            index_min = i\n",
        "            loss_min = train_loss_history[i][-1]\n",
        "            theta_min = theta\n",
        "    # ========== YOUR CODE ENDS HERE ============\n",
        "\n",
        "print(f\"Final train loss for the best model: {train_loss_history[index_min][-1]}\")\n",
        "print(f\"Final validation loss for the best model: {val_loss_history[index_min][-1]}\")\n",
        "print(f\"Parameters for the best model: \\n {theta_min}\")\n",
        "\n",
        "plt.plot(np.arange(num_epochs), train_loss_history[index_min], label=\"Train loss\")\n",
        "plt.plot(np.arange(num_epochs), val_loss_history[index_min], label=\"Val loss\")\n",
        "plt.title(\"Train + validation loss\")\n",
        "plt.xlabel(\"Epoch\")\n",
        "plt.ylabel(\"Loss\")\n",
        "plt.legend()\n",
        "plt.show()\n",
        "\n",
        "\n",
        "# Evaluate on test set\n",
        "# ========== YOUR CODE STARTS HERE ==========\n",
        "X_test = np.c_[np.ones(len(X_test)), X_test]\n",
        "test_pred = X_test @ theta_min\n",
        "test_loss = MSE_loss(test_pred, y_test)\n",
        "# ========== YOUR CODE ENDS HERE ============       \n",
        "print(f\"Test loss: {test_loss}\")          "
      ]
    },
    {
      "cell_type": "code",
      "source": [
        ""
      ],
      "metadata": {
        "id": "PXDK8Ybk5SlW"
      },
      "execution_count": 28,
      "outputs": []
    }
  ],
  "metadata": {
    "colab": {
      "collapsed_sections": [],
      "name": "CSE-144-JB-Assignment-1.ipynb",
      "provenance": []
    },
    "kernelspec": {
      "display_name": "Python 3",
      "language": "python",
      "name": "python3"
    },
    "language_info": {
      "codemirror_mode": {
        "name": "ipython",
        "version": 3
      },
      "file_extension": ".py",
      "mimetype": "text/x-python",
      "name": "python",
      "nbconvert_exporter": "python",
      "pygments_lexer": "ipython3",
      "version": "3.7.3"
    },
    "accelerator": "GPU"
  },
  "nbformat": 4,
  "nbformat_minor": 0
}