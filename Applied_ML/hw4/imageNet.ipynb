{
  "cells": [
    {
      "cell_type": "markdown",
      "metadata": {
        "id": "view-in-github",
        "colab_type": "text"
      },
      "source": [
        "<a href=\"https://colab.research.google.com/github/jongbinny98/ucsc/blob/master/imageNet.ipynb\" target=\"_parent\"><img src=\"https://colab.research.google.com/assets/colab-badge.svg\" alt=\"Open In Colab\"/></a>"
      ]
    },
    {
      "cell_type": "markdown",
      "metadata": {
        "id": "NegAkmLZKITL"
      },
      "source": [
        "# CSE - 144 Assignment 4\n",
        "\n",
        "## Due: June 7, 2022 11:59 pm\n",
        "\n",
        "\n",
        "**Be sure to set your Runtime environment to include a GPU, as it will speed up the training considerably (this time that's important!).**\n",
        "\n",
        "Intro Slides: https://docs.google.com/presentation/d/1PjqwL9g8XPr40LLRjRAAtxzc4Tf9iqVVnq61gJ59_Iw/edit?usp=sharing"
      ]
    },
    {
      "cell_type": "code",
      "source": [
        "from google.colab import drive\n",
        "drive.mount('/content/drive')"
      ],
      "metadata": {
        "id": "9XMaBDrqJAzi",
        "colab": {
          "base_uri": "https://localhost:8080/"
        },
        "outputId": "15143f8c-2d62-4758-cf51-685dcfa44bf6"
      },
      "execution_count": 1,
      "outputs": [
        {
          "output_type": "stream",
          "name": "stdout",
          "text": [
            "Drive already mounted at /content/drive; to attempt to forcibly remount, call drive.mount(\"/content/drive\", force_remount=True).\n"
          ]
        }
      ]
    },
    {
      "cell_type": "code",
      "execution_count": 2,
      "metadata": {
        "id": "UQ7vc7_hKITR"
      },
      "outputs": [],
      "source": [
        "# Ignore the warnings - Otherwise, TensorFlow tends to innundate one with far too many warnings.\n",
        "import warnings\n",
        "warnings.filterwarnings('always')\n",
        "warnings.filterwarnings('ignore')\n",
        "\n",
        "# Data visualizaton.\n",
        "import matplotlib.pyplot as plt\n",
        "from matplotlib import style\n",
        "import seaborn as sns\n",
        "import random as rn\n",
        "\n",
        "# Configure some defaults.\n",
        "%matplotlib inline  \n",
        "style.use('fivethirtyeight')\n",
        "sns.set(style='whitegrid',color_codes=True)\n",
        "\n",
        "# ML + Deep Learning Imports\n",
        "import tensorflow as tf\n",
        "from keras import backend as k\n",
        "from tensorflow import keras\n",
        "from keras.regularizers import l2\n",
        "from keras.preprocessing.image import ImageDataGenerator # Data Augmentation\n",
        "from tensorflow.keras import regularizers\n",
        "from tensorflow.keras import datasets, layers, models \n",
        "from keras.layers.advanced_activations import PReLU\n",
        "from tensorflow.keras.models import Sequential # This building the models\n",
        "from tensorflow.keras.layers import Dense, Dropout, Flatten, Activation, Conv2D, MaxPooling2D, BatchNormalization\n",
        "from tensorflow.keras.optimizers import Adam, SGD, Adagrad, Adadelta, RMSprop \n",
        "from tensorflow.keras.utils import to_categorical # if label is 0,1,...,99 etc then it becomes [0,...1,.,0] a len 100 vector\n",
        "from keras.callbacks import ReduceLROnPlateau #learning rate decay policy\n",
        "from sklearn.model_selection import train_test_split # for splitting data\n",
        "\n",
        "\n",
        "import numpy as np\n",
        "import pandas as pd # for making our csv\n",
        "import time\n",
        "# Image preprocessing and reading in.\n",
        "import imageio \n",
        "from pathlib import Path\n",
        "import os, sys\n",
        "from zipfile import ZipFile\n"
      ]
    },
    {
      "cell_type": "markdown",
      "metadata": {
        "id": "ZVLfTcsJKITR"
      },
      "source": [
        "#### Step-0: Import dataset\n",
        "Download Tiny-ImageNet-100 dataset using the code blocks below. \n",
        "\n",
        "Please fill in the code block below to split the data into training, validation and test datasets you may use scikit-learn to split."
      ]
    },
    {
      "cell_type": "code",
      "source": [
        "# Download Tiny-Imagenet-100\n",
        "!gdown 1bn9RtCsMu-v_ZagKCK2z7hVEDOIjb9Pd\n",
        "\n",
        "for file in os.listdir(os.getcwd()):\n",
        "    if file.endswith(\".zip\"):\n",
        "        zip = ZipFile(file)\n",
        "        zip.extractall()\n",
        "    else:\n",
        "        print(\"not found\")"
      ],
      "metadata": {
        "id": "Rp7dVNpkfC3_",
        "colab": {
          "base_uri": "https://localhost:8080/"
        },
        "outputId": "50963334-79a2-4aee-ab3c-4f57ed7251fb"
      },
      "execution_count": 3,
      "outputs": [
        {
          "output_type": "stream",
          "name": "stdout",
          "text": [
            "Downloading...\n",
            "From: https://drive.google.com/uc?id=1bn9RtCsMu-v_ZagKCK2z7hVEDOIjb9Pd\n",
            "To: /content/tiny-image-net-100.zip\n",
            "100% 139M/139M [00:01<00:00, 87.9MB/s]\n",
            "not found\n",
            "not found\n",
            "not found\n",
            "not found\n",
            "not found\n"
          ]
        }
      ]
    },
    {
      "cell_type": "code",
      "source": [
        "path = 'tiny-image-net-100/'\n",
        "\n",
        "def get_id_dictionary():\n",
        "    \"\"\"\n",
        "    Maps each class id to an unique integer.\n",
        "    \"\"\"\n",
        "    id_dict = {}\n",
        "    for i, line in enumerate(open(path + 'wnids.txt', 'r')):\n",
        "        id_dict[line.rstrip('\\n')] = i\n",
        "    return id_dict\n",
        "  \n",
        "def get_class_to_id_dict():\n",
        "    \"\"\"\n",
        "    Maps each class id to the English version of the label.\n",
        "    \"\"\"\n",
        "    id_dict = get_id_dictionary()\n",
        "    all_classes = {}\n",
        "    result = {}\n",
        "    for i, line in enumerate(open( path + 'words.txt', 'r')):\n",
        "        n_id, word = line.split('\\t')[:2]\n",
        "        all_classes[n_id] = word\n",
        "    for key, value in id_dict.items():\n",
        "        result[value] = (key, all_classes[key])      \n",
        "    return result\n",
        "\n",
        "def get_data(id_dict, n_samples = 500):\n",
        "    \"\"\"\n",
        "    n_samples: number of samples per class. n_samples has a max of 500.\n",
        "    The range is [1, 500].\n",
        "    \"\"\"\n",
        "    print('starting loading data')\n",
        "    train_data, test_data = [], []\n",
        "    train_labels = []\n",
        "    t = time.time()\n",
        "    for key, value in id_dict.items():\n",
        "      if value<100: # Only focus on first 100 classes\n",
        "        train_data += [imageio.imread( path + 'train/{}/images/{}_{}.JPEG'.format(key, key, str(i)), pilmode='RGB') for i in range(n_samples)]\n",
        "        train_labels_ = np.array([[0]*100]*n_samples)\n",
        "        train_labels_[:, value] = 1\n",
        "        train_labels += train_labels_.tolist()\n",
        "\n",
        "    test_image_names = []\n",
        "    path_list = list(Path(path+'test/images/').glob('*.jpg'))\n",
        "    for test_image_path in path_list:\n",
        "        img_name = str(test_image_path).split('.')[0][-18:]\n",
        "        test_image_names.append(img_name)\n",
        "        test_data.append(imageio.imread(test_image_path , pilmode='RGB'))\n",
        "        \n",
        "    print('finished loading data, in {} seconds'.format(time.time() - t))\n",
        "\n",
        "    train_data = np.array(train_data)\n",
        "    train_labels = np.array(train_labels)\n",
        "    test_data = np.array(test_data)\n",
        "\n",
        "    return train_data, train_labels, test_data, test_image_names"
      ],
      "metadata": {
        "id": "MItoUh2LZSsX"
      },
      "execution_count": 4,
      "outputs": []
    },
    {
      "cell_type": "code",
      "execution_count": 5,
      "metadata": {
        "id": "K6PznhssKITR",
        "colab": {
          "base_uri": "https://localhost:8080/"
        },
        "outputId": "12d159dd-cdf0-4a41-cd79-2376f060b608"
      },
      "outputs": [
        {
          "output_type": "stream",
          "name": "stdout",
          "text": [
            "starting loading data\n",
            "finished loading data, in 19.080846786499023 seconds\n",
            "train data shape:  (40000, 64, 64, 3)\n",
            "train label shape:  (40000, 100)\n",
            "val data shape:  (10000, 64, 64, 3)\n",
            "val label shape:  (10000, 100)\n",
            "test data shape:  (5000, 64, 64, 3)\n"
          ]
        }
      ],
      "source": [
        "# Start with n_samples = 10 to get your code working and then increase accordlingy.\n",
        "id_dict = get_id_dictionary()\n",
        "train_data, train_labels, test_data, test_image_names = get_data(id_dict)\n",
        "x_test, test_size = test_data, 0.2\n",
        "x_train, x_val, y_train, y_val = train_test_split(train_data, train_labels, test_size = test_size)\n",
        "\n",
        "\n",
        "print( \"train data shape: \",  x_train.shape )\n",
        "print( \"train label shape: \", y_train.shape )\n",
        "print( \"val data shape: \",  x_val.shape )\n",
        "print( \"val label shape: \", y_val.shape )\n",
        "print( \"test data shape: \",   x_test.shape )"
      ]
    },
    {
      "cell_type": "code",
      "source": [
        "# Let's set some random seeds to make this more reproducible.\n",
        "def setseeds():\n",
        "  np.random.seed(137)\n",
        "  rn.seed(137)\n",
        "  tf.random.set_seed(137)\n",
        "setseeds()"
      ],
      "metadata": {
        "id": "nSrUa9R4iUU6"
      },
      "execution_count": 6,
      "outputs": []
    },
    {
      "cell_type": "markdown",
      "source": [
        "#### Step-1: Data Preparation & Exploration\n",
        "\n",
        "Let's take a look at a few of these images. Rerun this cell multiple times to see different images for each class.\n",
        "\n",
        "You may notice that these images look low fidelity, which is because they are! As we increase our image size, we also increase our model complexity. What's important is that our classes are still distinguishable from each other."
      ],
      "metadata": {
        "id": "PJvMZiSoprph"
      }
    },
    {
      "cell_type": "code",
      "execution_count": 7,
      "metadata": {
        "id": "d45hvQNDKITS",
        "colab": {
          "base_uri": "https://localhost:8080/",
          "height": 304
        },
        "outputId": "fa363bc8-bc83-4ec7-8743-f9f1d735f407"
      },
      "outputs": [
        {
          "output_type": "execute_result",
          "data": {
            "text/plain": [
              "<matplotlib.image.AxesImage at 0x7f63e759c950>"
            ]
          },
          "metadata": {},
          "execution_count": 7
        },
        {
          "output_type": "display_data",
          "data": {
            "text/plain": [
              "<Figure size 432x288 with 1 Axes>"
            ],
            "image/png": "[encoded data removed]"
          },
          "metadata": {}
        }
      ],
      "source": [
        "# Visulize one image from Tiny-ImageNet\n",
        "plt.imshow(x_train[0], cmap=plt.cm.binary)"
      ]
    },
    {
      "cell_type": "markdown",
      "metadata": {
        "id": "eFpoh2XBKITT"
      },
      "source": [
        "#### Step-2: Build a neural network.\n",
        "Build your convolutional neural networks by adding some layers. You should use 2 convolution layers and ReLU as the default activation function.\n",
        "Add max pooling after the first layer.\n",
        "The kernel size of both layers should be 3x3. Use 32 and 64 as the number of filters for the first and the second convolutional layers, respectively. After that, flatten your input and add two more dense layers. There should be 1024 units in the first dense with ReLU activation, and use 100 hidden units in the second dense layer with softmax activation."
      ]
    },
    {
      "cell_type": "code",
      "source": [
        "# build convolutional neural network"
      ],
      "metadata": {
        "id": "_qZrWN65ZbF1"
      },
      "execution_count": 8,
      "outputs": []
    },
    {
      "cell_type": "code",
      "execution_count": 9,
      "metadata": {
        "id": "Y-7IE80mKITT"
      },
      "outputs": [],
      "source": [
        "# define our CNN architecture, using karas\n",
        "# This is where we define the architecture of our deep neural network.\n",
        "\n",
        "model = tf.keras.Sequential()\n",
        "\n",
        "model.add(Conv2D(filters = 32, \n",
        "          kernel_size=(3, 3), \n",
        "          activation=PReLU())\n",
        "          )\n",
        "\n",
        "model.add(Conv2D(filters = 64, \n",
        "          kernel_size=(3, 3), \n",
        "          activation=PReLU())\n",
        "          )\n",
        "\n",
        "model.add(MaxPooling2D((2, 2), strides=2))\n",
        "model.add(BatchNormalization())\n",
        "\n",
        "model.add(Conv2D(filters = 128, \n",
        "          kernel_size=(3, 3), \n",
        "          activation=PReLU())\n",
        "          )\n",
        "model.add(MaxPooling2D((2, 2), strides=2))\n",
        "model.add(BatchNormalization())\n",
        "\n",
        "\n",
        "model.add(Conv2D(filters = 256, \n",
        "          kernel_size=(3, 3), \n",
        "          activation=PReLU())\n",
        "          )\n",
        "\n",
        "model.add(MaxPooling2D((2, 2), strides=2))\n",
        "\n",
        "model.add(Conv2D(filters = 512, \n",
        "          kernel_size=(3, 3), \n",
        "          activation=PReLU())\n",
        "          )\n",
        "model.add(Flatten())\n",
        "\n",
        "model.add(Dropout(0.5))\n",
        "\n",
        "model.add(Dense(1024, activation = PReLU()))  \n",
        "\n",
        "model.add(Dense(100, activation = \"softmax\"))\n"
      ]
    },
    {
      "cell_type": "markdown",
      "source": [
        "### Side Note: How to save a model to google drive\n"
      ],
      "metadata": {
        "id": "-KmndNeeHHD5"
      }
    },
    {
      "cell_type": "code",
      "source": [
        "# Mount colab to your drive\n",
        "# from google.colab import drive\n",
        "drive.mount('/content/drive', force_remount=True)"
      ],
      "metadata": {
        "id": "iMzmHqxtHGgX",
        "colab": {
          "base_uri": "https://localhost:8080/"
        },
        "outputId": "41f2b634-97d5-4ff7-cdf9-70a086b95351"
      },
      "execution_count": 10,
      "outputs": [
        {
          "output_type": "stream",
          "name": "stdout",
          "text": [
            "Mounted at /content/drive\n"
          ]
        }
      ]
    },
    {
      "cell_type": "code",
      "source": [
        "# Add load model if exists\n",
        "model = keras.models.load_model('/content/drive/My Drive/hw4 kaggle/hw4_model.h5')"
      ],
      "metadata": {
        "id": "wD22-ZNKHjdz",
        "colab": {
          "base_uri": "https://localhost:8080/"
        },
        "outputId": "3bd63250-edb2-4b1f-aa60-18bb59d53e2d"
      },
      "execution_count": 11,
      "outputs": [
        {
          "output_type": "stream",
          "name": "stdout",
          "text": [
            "WARNING:tensorflow:No training configuration found in the save file, so the model was *not* compiled. Compile it manually.\n"
          ]
        }
      ]
    },
    {
      "cell_type": "code",
      "source": [
        "# Save your model to gdrive\n",
        "model.save('/content/drive/My Drive/hw4 kaggle/hw4_model.h5')  "
      ],
      "metadata": {
        "id": "VnMotv2THOJL",
        "colab": {
          "base_uri": "https://localhost:8080/"
        },
        "outputId": "bcf17c3d-e7d3-4e33-e1ee-11f40cabbc9c"
      },
      "execution_count": 12,
      "outputs": [
        {
          "output_type": "stream",
          "name": "stdout",
          "text": [
            "WARNING:tensorflow:Compiled the loaded model, but the compiled metrics have yet to be built. `model.compile_metrics` will be empty until you train or evaluate the model.\n"
          ]
        }
      ]
    },
    {
      "cell_type": "markdown",
      "metadata": {
        "id": "dt27nBzJKITU"
      },
      "source": [
        "#### Step-3: Train the model\n",
        "Compile model here and set your initial hyperparameters. Use ADAM as the optimizer. You should choose 'categorical_crossentropy' as your loss function, and the metrics should be 'accuracy'. After that, train your model for 30 epochs. "
      ]
    },
    {
      "cell_type": "code",
      "source": [
        "# lr_reducer = ReduceLROnPlateau(factor=np.sqrt(0.1), cooldown=0, patience=5, min_lr=0.5e-3)\n",
        "model.build(input_shape=(None, 64, 64, 3))\n",
        "model.summary()"
      ],
      "metadata": {
        "id": "Vow_Wly8N_AD",
        "colab": {
          "base_uri": "https://localhost:8080/"
        },
        "outputId": "dc07ea2f-453b-448e-a713-50487162398d"
      },
      "execution_count": 13,
      "outputs": [
        {
          "output_type": "stream",
          "name": "stdout",
          "text": [
            "Model: \"sequential_1\"\n",
            "_________________________________________________________________\n",
            " Layer (type)                Output Shape              Param #   \n",
            "=================================================================\n",
            " conv2d_5 (Conv2D)           (None, 62, 62, 32)        123904    \n",
            "                                                                 \n",
            " conv2d_6 (Conv2D)           (None, 60, 60, 64)        248896    \n",
            "                                                                 \n",
            " max_pooling2d_3 (MaxPooling  (None, 30, 30, 64)       0         \n",
            " 2D)                                                             \n",
            "                                                                 \n",
            " batch_normalization_2 (Batc  (None, 30, 30, 64)       256       \n",
            " hNormalization)                                                 \n",
            "                                                                 \n",
            " conv2d_7 (Conv2D)           (None, 28, 28, 128)       174208    \n",
            "                                                                 \n",
            " max_pooling2d_4 (MaxPooling  (None, 14, 14, 128)      0         \n",
            " 2D)                                                             \n",
            "                                                                 \n",
            " batch_normalization_3 (Batc  (None, 14, 14, 128)      512       \n",
            " hNormalization)                                                 \n",
            "                                                                 \n",
            " conv2d_8 (Conv2D)           (None, 12, 12, 256)       332032    \n",
            "                                                                 \n",
            " max_pooling2d_5 (MaxPooling  (None, 6, 6, 256)        0         \n",
            " 2D)                                                             \n",
            "                                                                 \n",
            " conv2d_9 (Conv2D)           (None, 4, 4, 512)         1188352   \n",
            "                                                                 \n",
            " flatten_1 (Flatten)         (None, 8192)              0         \n",
            "                                                                 \n",
            " dropout_1 (Dropout)         (None, 8192)              0         \n",
            "                                                                 \n",
            " dense_2 (Dense)             (None, 1024)              8390656   \n",
            "                                                                 \n",
            " dense_3 (Dense)             (None, 100)               102500    \n",
            "                                                                 \n",
            "=================================================================\n",
            "Total params: 10,561,316\n",
            "Trainable params: 10,560,932\n",
            "Non-trainable params: 384\n",
            "_________________________________________________________________\n"
          ]
        }
      ]
    },
    {
      "cell_type": "code",
      "source": [
        "#compile the model\n",
        "model.compile(optimizer = Adam(lr = 0.001),\n",
        "              loss = 'categorical_crossentropy', \n",
        "              metrics = ['accuracy'])\n",
        "\n"
      ],
      "metadata": {
        "id": "pEyagpLSMLtq"
      },
      "execution_count": 14,
      "outputs": []
    },
    {
      "cell_type": "markdown",
      "source": [
        "### Data Augmentation\n",
        "\n",
        "There are many augmentations you can use! Read about them in the Keras documentation.\n",
        "\n",
        " **Rescale is very important!**"
      ],
      "metadata": {
        "id": "1PldpcYoHsG-"
      }
    },
    {
      "cell_type": "code",
      "source": [
        "# Set up data generators for training and validation set\n",
        "# add transformations\n",
        "\n",
        "datagen = ImageDataGenerator(\n",
        "          rescale=1/255.,\n",
        "          featurewise_center=False,           # set input mean to 0 over the dataset\n",
        "          samplewise_center=False,            # set each sample mean to 0\n",
        "          featurewise_std_normalization=False,# divide inputs by std of the dataset\n",
        "          samplewise_std_normalization=False, # divide each input by its std\n",
        "          zca_whitening=False,                # apply ZCA whitening\n",
        "          rotation_range=0,                   # randomly rotate images in the range (degrees, 0 to 180)\n",
        "          width_shift_range=0.1,              # randomly shift images horizontally (fraction of total width)\n",
        "          height_shift_range=0.1,             # randomly shift images vertically (fraction of total height)\n",
        "          horizontal_flip=True,               # randomly flip images\n",
        "          vertical_flip=True)               # randomly flip images\n",
        "\n",
        "\n",
        "valid_datagen = ImageDataGenerator(rescale=1/255.)"
      ],
      "metadata": {
        "id": "YenY_mK3LOmp"
      },
      "execution_count": 15,
      "outputs": []
    },
    {
      "cell_type": "code",
      "source": [
        "# fit generators to datasets\n",
        "datagen.fit(x_train)\n",
        "datagen.fit(x_val)\n"
      ],
      "metadata": {
        "id": "JLAj2KeOLuR1"
      },
      "execution_count": 16,
      "outputs": []
    },
    {
      "cell_type": "code",
      "source": [
        "#set number of epochs, set batch_size\n",
        "nb_epoch = 100\n",
        "batch_size= 256\n",
        "\n",
        "# # Fit the model on the batches generated by datagen.flow().\n",
        "setseeds()\n",
        "\n",
        "# history = model.fit(x_train, y_train,\n",
        "#                     batch_size = batch_size,\n",
        "#                     epochs = nb_epoch, \n",
        "#                     validation_data = (x_val, y_val)\n",
        "#                     )\n",
        "history = model.fit(datagen.flow(x_train, y_train, batch_size=32),\n",
        "         validation_data = valid_datagen.flow(x_val, y_val, batch_size = batch_size),\n",
        "         steps_per_epoch=len(x_train) / 32, epochs=nb_epoch)\n",
        "\n"
      ],
      "metadata": {
        "id": "1I6RSsDML98I",
        "colab": {
          "base_uri": "https://localhost:8080/"
        },
        "outputId": "c44e1880-1147-42b5-95d6-e8a596bbed4a"
      },
      "execution_count": 17,
      "outputs": [
        {
          "output_type": "stream",
          "name": "stdout",
          "text": [
            "Epoch 1/100\n",
            "1250/1250 [==============================] - 49s 38ms/step - loss: 4.4319 - accuracy: 0.0282 - val_loss: 4.4399 - val_accuracy: 0.0311\n",
            "Epoch 2/100\n",
            "1250/1250 [==============================] - 46s 37ms/step - loss: 4.0482 - accuracy: 0.0805 - val_loss: 3.6622 - val_accuracy: 0.1429\n",
            "Epoch 3/100\n",
            "1250/1250 [==============================] - 45s 36ms/step - loss: 3.6289 - accuracy: 0.1505 - val_loss: 3.4035 - val_accuracy: 0.1890\n",
            "Epoch 4/100\n",
            "1250/1250 [==============================] - 46s 36ms/step - loss: 3.3851 - accuracy: 0.1910 - val_loss: 3.2134 - val_accuracy: 0.2241\n",
            "Epoch 5/100\n",
            "1250/1250 [==============================] - 45s 36ms/step - loss: 3.2175 - accuracy: 0.2241 - val_loss: 3.1442 - val_accuracy: 0.2405\n",
            "Epoch 6/100\n",
            "1250/1250 [==============================] - 45s 36ms/step - loss: 3.0831 - accuracy: 0.2461 - val_loss: 2.9589 - val_accuracy: 0.2773\n",
            "Epoch 7/100\n",
            "1250/1250 [==============================] - 46s 36ms/step - loss: 2.9768 - accuracy: 0.2666 - val_loss: 2.8524 - val_accuracy: 0.2973\n",
            "Epoch 8/100\n",
            "1250/1250 [==============================] - 45s 36ms/step - loss: 2.8967 - accuracy: 0.2875 - val_loss: 2.9167 - val_accuracy: 0.2870\n",
            "Epoch 9/100\n",
            "1250/1250 [==============================] - 45s 36ms/step - loss: 2.8101 - accuracy: 0.3050 - val_loss: 2.8627 - val_accuracy: 0.2915\n",
            "Epoch 10/100\n",
            "1250/1250 [==============================] - 45s 36ms/step - loss: 2.7464 - accuracy: 0.3178 - val_loss: 2.7753 - val_accuracy: 0.3133\n",
            "Epoch 11/100\n",
            "1250/1250 [==============================] - 46s 37ms/step - loss: 2.6911 - accuracy: 0.3295 - val_loss: 2.9385 - val_accuracy: 0.2994\n",
            "Epoch 12/100\n",
            "1250/1250 [==============================] - 45s 36ms/step - loss: 2.6305 - accuracy: 0.3387 - val_loss: 2.8313 - val_accuracy: 0.3154\n",
            "Epoch 13/100\n",
            "1250/1250 [==============================] - 45s 36ms/step - loss: 2.5836 - accuracy: 0.3512 - val_loss: 2.6673 - val_accuracy: 0.3452\n",
            "Epoch 14/100\n",
            "1250/1250 [==============================] - 46s 36ms/step - loss: 2.5440 - accuracy: 0.3547 - val_loss: 2.6181 - val_accuracy: 0.3551\n",
            "Epoch 15/100\n",
            "1250/1250 [==============================] - 45s 36ms/step - loss: 2.4915 - accuracy: 0.3715 - val_loss: 2.6055 - val_accuracy: 0.3535\n",
            "Epoch 16/100\n",
            "1250/1250 [==============================] - 45s 36ms/step - loss: 2.4567 - accuracy: 0.3765 - val_loss: 2.6301 - val_accuracy: 0.3588\n",
            "Epoch 17/100\n",
            "1250/1250 [==============================] - 45s 36ms/step - loss: 2.4278 - accuracy: 0.3840 - val_loss: 2.6924 - val_accuracy: 0.3474\n",
            "Epoch 18/100\n",
            "1250/1250 [==============================] - 45s 36ms/step - loss: 2.3979 - accuracy: 0.3900 - val_loss: 2.6090 - val_accuracy: 0.3627\n",
            "Epoch 19/100\n",
            "1250/1250 [==============================] - 45s 36ms/step - loss: 2.3703 - accuracy: 0.3961 - val_loss: 2.5744 - val_accuracy: 0.3792\n",
            "Epoch 20/100\n",
            "1250/1250 [==============================] - 45s 36ms/step - loss: 2.3391 - accuracy: 0.4048 - val_loss: 2.8035 - val_accuracy: 0.3442\n",
            "Epoch 21/100\n",
            "1250/1250 [==============================] - 45s 36ms/step - loss: 2.3124 - accuracy: 0.4117 - val_loss: 2.5755 - val_accuracy: 0.3815\n",
            "Epoch 22/100\n",
            "1250/1250 [==============================] - 46s 37ms/step - loss: 2.2895 - accuracy: 0.4134 - val_loss: 2.5610 - val_accuracy: 0.3843\n",
            "Epoch 23/100\n",
            "1250/1250 [==============================] - 46s 36ms/step - loss: 2.2732 - accuracy: 0.4207 - val_loss: 2.5983 - val_accuracy: 0.3706\n",
            "Epoch 24/100\n",
            "1250/1250 [==============================] - 45s 36ms/step - loss: 2.2391 - accuracy: 0.4279 - val_loss: 2.4929 - val_accuracy: 0.3903\n",
            "Epoch 25/100\n",
            "1250/1250 [==============================] - 46s 36ms/step - loss: 2.2226 - accuracy: 0.4276 - val_loss: 2.6322 - val_accuracy: 0.3726\n",
            "Epoch 26/100\n",
            "1250/1250 [==============================] - 46s 37ms/step - loss: 2.2018 - accuracy: 0.4328 - val_loss: 2.6277 - val_accuracy: 0.3758\n",
            "Epoch 27/100\n",
            "1250/1250 [==============================] - 45s 36ms/step - loss: 2.1958 - accuracy: 0.4364 - val_loss: 2.6016 - val_accuracy: 0.3761\n",
            "Epoch 28/100\n",
            "1250/1250 [==============================] - 46s 37ms/step - loss: 2.1644 - accuracy: 0.4430 - val_loss: 2.4860 - val_accuracy: 0.3957\n",
            "Epoch 29/100\n",
            "1250/1250 [==============================] - 46s 37ms/step - loss: 2.1466 - accuracy: 0.4452 - val_loss: 2.5214 - val_accuracy: 0.3921\n",
            "Epoch 30/100\n",
            "1250/1250 [==============================] - 45s 36ms/step - loss: 2.1253 - accuracy: 0.4525 - val_loss: 2.4577 - val_accuracy: 0.3999\n",
            "Epoch 31/100\n",
            "1250/1250 [==============================] - 46s 37ms/step - loss: 2.1206 - accuracy: 0.4536 - val_loss: 2.4869 - val_accuracy: 0.4065\n",
            "Epoch 32/100\n",
            "1250/1250 [==============================] - 45s 36ms/step - loss: 2.0975 - accuracy: 0.4568 - val_loss: 2.4099 - val_accuracy: 0.4153\n",
            "Epoch 33/100\n",
            "1250/1250 [==============================] - 45s 36ms/step - loss: 2.0911 - accuracy: 0.4574 - val_loss: 2.4694 - val_accuracy: 0.4006\n",
            "Epoch 34/100\n",
            "1250/1250 [==============================] - 46s 37ms/step - loss: 2.0627 - accuracy: 0.4669 - val_loss: 2.4918 - val_accuracy: 0.4091\n",
            "Epoch 35/100\n",
            "1250/1250 [==============================] - 47s 37ms/step - loss: 2.0517 - accuracy: 0.4704 - val_loss: 2.4517 - val_accuracy: 0.4049\n",
            "Epoch 36/100\n",
            "1250/1250 [==============================] - 46s 37ms/step - loss: 2.0352 - accuracy: 0.4705 - val_loss: 2.3904 - val_accuracy: 0.4111\n",
            "Epoch 37/100\n",
            "1250/1250 [==============================] - 46s 37ms/step - loss: 2.0296 - accuracy: 0.4743 - val_loss: 2.4544 - val_accuracy: 0.4090\n",
            "Epoch 38/100\n",
            "1250/1250 [==============================] - 46s 37ms/step - loss: 2.0026 - accuracy: 0.4789 - val_loss: 2.4794 - val_accuracy: 0.4132\n",
            "Epoch 39/100\n",
            "1250/1250 [==============================] - 46s 37ms/step - loss: 1.9920 - accuracy: 0.4769 - val_loss: 2.5948 - val_accuracy: 0.3903\n",
            "Epoch 40/100\n",
            "1250/1250 [==============================] - 47s 37ms/step - loss: 1.9933 - accuracy: 0.4799 - val_loss: 2.4529 - val_accuracy: 0.4067\n",
            "Epoch 41/100\n",
            "1250/1250 [==============================] - 47s 38ms/step - loss: 1.9760 - accuracy: 0.4863 - val_loss: 2.4517 - val_accuracy: 0.4142\n",
            "Epoch 42/100\n",
            "1250/1250 [==============================] - 46s 37ms/step - loss: 1.9721 - accuracy: 0.4852 - val_loss: 2.5329 - val_accuracy: 0.4120\n",
            "Epoch 43/100\n",
            "1250/1250 [==============================] - 47s 37ms/step - loss: 1.9697 - accuracy: 0.4859 - val_loss: 2.4972 - val_accuracy: 0.4115\n",
            "Epoch 44/100\n",
            "1250/1250 [==============================] - 46s 37ms/step - loss: 1.9487 - accuracy: 0.4902 - val_loss: 2.5082 - val_accuracy: 0.4115\n",
            "Epoch 45/100\n",
            "1250/1250 [==============================] - 46s 37ms/step - loss: 1.9478 - accuracy: 0.4902 - val_loss: 2.4922 - val_accuracy: 0.4119\n",
            "Epoch 46/100\n",
            "1250/1250 [==============================] - 46s 37ms/step - loss: 1.9291 - accuracy: 0.4980 - val_loss: 2.4893 - val_accuracy: 0.4195\n",
            "Epoch 47/100\n",
            "1250/1250 [==============================] - 46s 37ms/step - loss: 1.9113 - accuracy: 0.4969 - val_loss: 2.4557 - val_accuracy: 0.4207\n",
            "Epoch 48/100\n",
            "1250/1250 [==============================] - 47s 37ms/step - loss: 1.9051 - accuracy: 0.4994 - val_loss: 2.4860 - val_accuracy: 0.4224\n",
            "Epoch 49/100\n",
            "1250/1250 [==============================] - 46s 37ms/step - loss: 1.8960 - accuracy: 0.5018 - val_loss: 2.4987 - val_accuracy: 0.4103\n",
            "Epoch 50/100\n",
            "1250/1250 [==============================] - 47s 37ms/step - loss: 1.8925 - accuracy: 0.5041 - val_loss: 2.5174 - val_accuracy: 0.4133\n",
            "Epoch 51/100\n",
            "1250/1250 [==============================] - 47s 37ms/step - loss: 1.8814 - accuracy: 0.5071 - val_loss: 2.5511 - val_accuracy: 0.4120\n",
            "Epoch 52/100\n",
            "1250/1250 [==============================] - 46s 37ms/step - loss: 1.8870 - accuracy: 0.5048 - val_loss: 2.5062 - val_accuracy: 0.4157\n",
            "Epoch 53/100\n",
            "1250/1250 [==============================] - 46s 37ms/step - loss: 1.8569 - accuracy: 0.5124 - val_loss: 2.4910 - val_accuracy: 0.4215\n",
            "Epoch 54/100\n",
            "1250/1250 [==============================] - 46s 37ms/step - loss: 1.8384 - accuracy: 0.5160 - val_loss: 2.5089 - val_accuracy: 0.4180\n",
            "Epoch 55/100\n",
            "1250/1250 [==============================] - 46s 37ms/step - loss: 1.8386 - accuracy: 0.5156 - val_loss: 2.5340 - val_accuracy: 0.4268\n",
            "Epoch 56/100\n",
            "1250/1250 [==============================] - 46s 37ms/step - loss: 1.8313 - accuracy: 0.5174 - val_loss: 2.6087 - val_accuracy: 0.4059\n",
            "Epoch 57/100\n",
            "1250/1250 [==============================] - 46s 36ms/step - loss: 1.8211 - accuracy: 0.5203 - val_loss: 2.6102 - val_accuracy: 0.4144\n",
            "Epoch 58/100\n",
            "1250/1250 [==============================] - 45s 36ms/step - loss: 1.8149 - accuracy: 0.5227 - val_loss: 2.5157 - val_accuracy: 0.4164\n",
            "Epoch 59/100\n",
            "1250/1250 [==============================] - 46s 37ms/step - loss: 1.8029 - accuracy: 0.5272 - val_loss: 2.5942 - val_accuracy: 0.4147\n",
            "Epoch 60/100\n",
            "1250/1250 [==============================] - 46s 37ms/step - loss: 1.8087 - accuracy: 0.5272 - val_loss: 2.6093 - val_accuracy: 0.4177\n",
            "Epoch 61/100\n",
            "1250/1250 [==============================] - 46s 37ms/step - loss: 1.7955 - accuracy: 0.5288 - val_loss: 2.5947 - val_accuracy: 0.4135\n",
            "Epoch 62/100\n",
            "1250/1250 [==============================] - 46s 37ms/step - loss: 1.7911 - accuracy: 0.5257 - val_loss: 2.6195 - val_accuracy: 0.4054\n",
            "Epoch 63/100\n",
            "1250/1250 [==============================] - 46s 37ms/step - loss: 1.7822 - accuracy: 0.5305 - val_loss: 2.7826 - val_accuracy: 0.4003\n",
            "Epoch 64/100\n",
            "1250/1250 [==============================] - 46s 37ms/step - loss: 1.7757 - accuracy: 0.5340 - val_loss: 2.5622 - val_accuracy: 0.4103\n",
            "Epoch 65/100\n",
            "1250/1250 [==============================] - 46s 37ms/step - loss: 1.7593 - accuracy: 0.5354 - val_loss: 2.5718 - val_accuracy: 0.4197\n",
            "Epoch 66/100\n",
            "1250/1250 [==============================] - 46s 37ms/step - loss: 1.7483 - accuracy: 0.5377 - val_loss: 2.5749 - val_accuracy: 0.4159\n",
            "Epoch 67/100\n",
            "1250/1250 [==============================] - 45s 36ms/step - loss: 1.7599 - accuracy: 0.5378 - val_loss: 2.6011 - val_accuracy: 0.4141\n",
            "Epoch 68/100\n",
            "1250/1250 [==============================] - 46s 37ms/step - loss: 1.7386 - accuracy: 0.5443 - val_loss: 2.4965 - val_accuracy: 0.4390\n",
            "Epoch 69/100\n",
            "1250/1250 [==============================] - 46s 37ms/step - loss: 1.7394 - accuracy: 0.5386 - val_loss: 2.5192 - val_accuracy: 0.4293\n",
            "Epoch 70/100\n",
            "1250/1250 [==============================] - 46s 37ms/step - loss: 1.7407 - accuracy: 0.5410 - val_loss: 2.5302 - val_accuracy: 0.4283\n",
            "Epoch 71/100\n",
            "1250/1250 [==============================] - 46s 37ms/step - loss: 1.7308 - accuracy: 0.5433 - val_loss: 2.5808 - val_accuracy: 0.4239\n",
            "Epoch 72/100\n",
            "1250/1250 [==============================] - 46s 37ms/step - loss: 1.7135 - accuracy: 0.5448 - val_loss: 2.6724 - val_accuracy: 0.4113\n",
            "Epoch 73/100\n",
            "1250/1250 [==============================] - 46s 37ms/step - loss: 1.7082 - accuracy: 0.5513 - val_loss: 2.5581 - val_accuracy: 0.4252\n",
            "Epoch 74/100\n",
            "1250/1250 [==============================] - 45s 36ms/step - loss: 1.7084 - accuracy: 0.5493 - val_loss: 2.6458 - val_accuracy: 0.4110\n",
            "Epoch 75/100\n",
            "1250/1250 [==============================] - 45s 36ms/step - loss: 1.7068 - accuracy: 0.5495 - val_loss: 2.5445 - val_accuracy: 0.4309\n",
            "Epoch 76/100\n",
            "1250/1250 [==============================] - 46s 36ms/step - loss: 1.6756 - accuracy: 0.5559 - val_loss: 2.6306 - val_accuracy: 0.4371\n",
            "Epoch 77/100\n",
            "1250/1250 [==============================] - 46s 37ms/step - loss: 1.6892 - accuracy: 0.5528 - val_loss: 2.5728 - val_accuracy: 0.4335\n",
            "Epoch 78/100\n",
            "1250/1250 [==============================] - 46s 37ms/step - loss: 1.6663 - accuracy: 0.5559 - val_loss: 2.6280 - val_accuracy: 0.4243\n",
            "Epoch 79/100\n",
            "1250/1250 [==============================] - 45s 36ms/step - loss: 1.6566 - accuracy: 0.5607 - val_loss: 2.6965 - val_accuracy: 0.4231\n",
            "Epoch 80/100\n",
            "1250/1250 [==============================] - 46s 37ms/step - loss: 1.6580 - accuracy: 0.5598 - val_loss: 2.6325 - val_accuracy: 0.4317\n",
            "Epoch 81/100\n",
            "1250/1250 [==============================] - 46s 37ms/step - loss: 1.6639 - accuracy: 0.5588 - val_loss: 2.6234 - val_accuracy: 0.4273\n",
            "Epoch 82/100\n",
            "1250/1250 [==============================] - 46s 37ms/step - loss: 1.6645 - accuracy: 0.5603 - val_loss: 2.5208 - val_accuracy: 0.4312\n",
            "Epoch 83/100\n",
            "1250/1250 [==============================] - 46s 37ms/step - loss: 1.6344 - accuracy: 0.5670 - val_loss: 2.7970 - val_accuracy: 0.4159\n",
            "Epoch 84/100\n",
            "1250/1250 [==============================] - 46s 37ms/step - loss: 1.6424 - accuracy: 0.5637 - val_loss: 2.7437 - val_accuracy: 0.4250\n",
            "Epoch 85/100\n",
            "1250/1250 [==============================] - 46s 37ms/step - loss: 1.6570 - accuracy: 0.5615 - val_loss: 2.7982 - val_accuracy: 0.4032\n",
            "Epoch 86/100\n",
            "1250/1250 [==============================] - 46s 37ms/step - loss: 1.6311 - accuracy: 0.5697 - val_loss: 2.6820 - val_accuracy: 0.4369\n",
            "Epoch 87/100\n",
            "1250/1250 [==============================] - 46s 37ms/step - loss: 1.6161 - accuracy: 0.5709 - val_loss: 2.6119 - val_accuracy: 0.4271\n",
            "Epoch 88/100\n",
            "1250/1250 [==============================] - 46s 37ms/step - loss: 1.6201 - accuracy: 0.5709 - val_loss: 2.6003 - val_accuracy: 0.4347\n",
            "Epoch 89/100\n",
            "1250/1250 [==============================] - 46s 37ms/step - loss: 1.6182 - accuracy: 0.5706 - val_loss: 2.7499 - val_accuracy: 0.4185\n",
            "Epoch 90/100\n",
            "1250/1250 [==============================] - 46s 37ms/step - loss: 1.6029 - accuracy: 0.5750 - val_loss: 2.6943 - val_accuracy: 0.4196\n",
            "Epoch 91/100\n",
            "1250/1250 [==============================] - 46s 37ms/step - loss: 1.6071 - accuracy: 0.5728 - val_loss: 2.6819 - val_accuracy: 0.4259\n",
            "Epoch 92/100\n",
            "1250/1250 [==============================] - 46s 37ms/step - loss: 1.6121 - accuracy: 0.5723 - val_loss: 2.8651 - val_accuracy: 0.3979\n",
            "Epoch 93/100\n",
            "1250/1250 [==============================] - 46s 37ms/step - loss: 1.5943 - accuracy: 0.5772 - val_loss: 2.6336 - val_accuracy: 0.4225\n",
            "Epoch 94/100\n",
            "1250/1250 [==============================] - 45s 36ms/step - loss: 1.5903 - accuracy: 0.5771 - val_loss: 2.6341 - val_accuracy: 0.4390\n",
            "Epoch 95/100\n",
            "1250/1250 [==============================] - 45s 36ms/step - loss: 1.5973 - accuracy: 0.5757 - val_loss: 2.6736 - val_accuracy: 0.4311\n",
            "Epoch 96/100\n",
            "1250/1250 [==============================] - 45s 36ms/step - loss: 1.5839 - accuracy: 0.5800 - val_loss: 2.6733 - val_accuracy: 0.4350\n",
            "Epoch 97/100\n",
            "1250/1250 [==============================] - 45s 36ms/step - loss: 1.5695 - accuracy: 0.5821 - val_loss: 2.6680 - val_accuracy: 0.4170\n",
            "Epoch 98/100\n",
            "1250/1250 [==============================] - 46s 37ms/step - loss: 1.5725 - accuracy: 0.5817 - val_loss: 2.6555 - val_accuracy: 0.4326\n",
            "Epoch 99/100\n",
            "1250/1250 [==============================] - 46s 37ms/step - loss: 1.5565 - accuracy: 0.5858 - val_loss: 2.6713 - val_accuracy: 0.4258\n",
            "Epoch 100/100\n",
            "1250/1250 [==============================] - 46s 36ms/step - loss: 1.5685 - accuracy: 0.5840 - val_loss: 2.6941 - val_accuracy: 0.4356\n"
          ]
        }
      ]
    },
    {
      "cell_type": "markdown",
      "source": [
        "### Plot Model Performance"
      ],
      "metadata": {
        "id": "7umFV7g_rUqC"
      }
    },
    {
      "cell_type": "code",
      "source": [
        "# Plot Model Performance\n",
        "\n",
        "def plot_data(history):\n",
        "  plt.plot(history.history['loss'])\n",
        "  plt.plot(history.history['val_loss'])\n",
        "  plt.title('Model Loss')\n",
        "  plt.ylabel('Loss')\n",
        "  plt.xlabel('Epochs')\n",
        "  plt.legend(['train', 'test'])\n",
        "  plt.show()\n",
        "\n",
        "  plt.plot(history.history['accuracy'])\n",
        "  plt.plot(history.history['val_accuracy'])\n",
        "  plt.title('Model Accuracy')\n",
        "  plt.ylabel('Accuracy')\n",
        "  plt.xlabel('Epochs')\n",
        "  plt.legend(['train', 'test'])\n",
        "  plt.show()\n",
        "\n",
        "plot_data(history)"
      ],
      "metadata": {
        "id": "jUmhu6zyrXKf",
        "colab": {
          "base_uri": "https://localhost:8080/",
          "height": 617
        },
        "outputId": "d4e9157f-3237-472d-cfb6-3cc29d9671c0"
      },
      "execution_count": 18,
      "outputs": [
        {
          "output_type": "display_data",
          "data": {
            "text/plain": [
              "<Figure size 432x288 with 1 Axes>"
            ],
            "image/png": "[encoded data removed]"
          },
          "metadata": {}
        },
        {
          "output_type": "display_data",
          "data": {
            "text/plain": [
              "<Figure size 432x288 with 1 Axes>"
            ],
            "image/png": "[encoded data removed]"
          },
          "metadata": {}
        }
      ]
    },
    {
      "cell_type": "code",
      "source": [
        "# model.evaluate(x_val, y_val)"
      ],
      "metadata": {
        "id": "BkMG2kVwbmo5",
        "colab": {
          "base_uri": "https://localhost:8080/"
        },
        "outputId": "fc74c3c7-43f9-423f-abc0-ea43d51d82a8"
      },
      "execution_count": 19,
      "outputs": [
        {
          "output_type": "stream",
          "name": "stdout",
          "text": [
            "313/313 [==============================] - 3s 8ms/step - loss: 12128.5557 - accuracy: 0.0109\n"
          ]
        },
        {
          "output_type": "execute_result",
          "data": {
            "text/plain": [
              "[12128.5556640625, 0.010900000110268593]"
            ]
          },
          "metadata": {},
          "execution_count": 19
        }
      ]
    },
    {
      "cell_type": "code",
      "source": [
        "# Make Submission Kaggle File\n",
        "def create_submission_file(model):\n",
        "  name2idx = {}\n",
        "  sample_submission = pd.read_csv('tiny-image-net-100/submission_sample.csv')\n",
        "  filename_order = sample_submission['img_id'].values\n",
        "  for i in range(len(filename_order)):\n",
        "    name2idx[filename_order[i]] = i\n",
        "\n",
        "  # Google colab reads the files in a different order than the answer file was created.\n",
        "  # This is done to preserve the file order.\n",
        "  result_dict = {'img_id': [None]*len(x_test),\n",
        "                'label':[None]*len(x_test)}\n",
        "  test_preds = np.argmax(model.predict(x_test/255.),axis=-1)\n",
        "\n",
        "  for i in range(len(test_image_names)):\n",
        "    test_image_name = test_image_names[i]\n",
        "    result_dict['img_id'][name2idx[test_image_name]] = test_image_name\n",
        "    result_dict['label'][name2idx[test_image_name]] = test_preds[i]\n",
        "\n",
        "  pd.DataFrame(result_dict).to_csv('submission.csv', index=False)"
      ],
      "metadata": {
        "id": "be60AJz3dbm2"
      },
      "execution_count": 20,
      "outputs": []
    },
    {
      "cell_type": "code",
      "source": [
        "# Create your submission file and download it.\n",
        "create_submission_file(model)\n"
      ],
      "metadata": {
        "id": "01m0eGmqdyAb"
      },
      "execution_count": 21,
      "outputs": []
    }
  ],
  "metadata": {
    "colab": {
      "collapsed_sections": [],
      "name": "imageNet.ipynb",
      "provenance": [],
      "machine_shape": "hm",
      "include_colab_link": true
    },
    "interpreter": {
      "hash": "3afe1e4ce7822ba0e325ee279bb4d100dadd903c2abe2139ffec7391692aa1eb"
    },
    "kernelspec": {
      "display_name": "Python 3.6.13 ('zichao')",
      "language": "python",
      "name": "python3"
    },
    "language_info": {
      "codemirror_mode": {
        "name": "ipython",
        "version": 3
      },
      "file_extension": ".py",
      "mimetype": "text/x-python",
      "name": "python",
      "nbconvert_exporter": "python",
      "pygments_lexer": "ipython3",
      "version": "3.6.13"
    },
    "orig_nbformat": 4,
    "accelerator": "GPU"
  },
  "nbformat": 4,
  "nbformat_minor": 0
}